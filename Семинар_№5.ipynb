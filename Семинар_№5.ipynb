{
  "nbformat": 4,
  "nbformat_minor": 0,
  "metadata": {
    "colab": {
      "provenance": [],
      "toc_visible": true,
      "gpuType": "T4"
    },
    "kernelspec": {
      "name": "python3",
      "display_name": "Python 3"
    },
    "language_info": {
      "name": "python"
    },
    "accelerator": "GPU"
  },
  "cells": [
    {
      "cell_type": "markdown",
      "source": [
        "## Задача NER"
      ],
      "metadata": {
        "id": "hBR5QKjBTaAW"
      }
    },
    {
      "cell_type": "markdown",
      "source": [
        "Задача выделения именованных сущностей (Named Entity Recognition, NER) в тексте заключается в том, чтобы автоматически находить и классифицировать упоминания объектов в тексте. Обычно выделяются такие сущности, как:\n",
        "\n",
        "- **Персоны (PERSON)** — имена людей.\n",
        "- **Организации (ORG)** — компании, учреждения и т.д.\n",
        "- **Географические объекты (GPE)** — города, страны и т.д.\n",
        "- **Даты и временные промежутки (DATE)**.\n",
        "- **Продукты (PRODUCT)** — товары и технологии."
      ],
      "metadata": {
        "id": "hquytMKCJzfj"
      }
    },
    {
      "cell_type": "markdown",
      "source": [
        "### Способы решения задачи NER\n",
        "\n",
        "#### 1. **Методы на основе правил**\n",
        "Исторически первые подходы к NER основывались на вручную созданных правилах (например, регулярных выражениях) и лингвистических шаблонах. Эти системы включали:\n",
        "\n",
        "- **Регулярные выражения** — для распознавания шаблонов, например дат или номеров.\n",
        "- **Словари (lookup)** — для поиска имен, географических названий и других заранее известных сущностей.\n",
        "\n",
        "Этот подход легко реализуется, но не масштабируется для обработки больших объемов текста или сложных контекстов. Также такие системы могут плохо обрабатывать новые слова или неочевидные контексты.\n",
        "\n",
        "#### 2. **Машинное обучение (ML)**\n",
        "Подходы на основе машинного обучения более универсальны. В NER задачи часто применяются такие методы:\n",
        "\n",
        "- **Модели на основе скрытых марковских цепей (HMM)** — использовались для ранних подходов к NER. Эти модели работают с последовательностью токенов и пытаются предсказать метки сущностей, учитывая зависимость между предыдущими и текущими состояниями.\n",
        "  \n",
        "- **Методы на основе условных случайных полей (CRF)** — улучшение HMM, которое позволяет моделировать более сложные зависимости между сущностями, например, когда несколько слов образуют одну сущность (например, полное имя человека).\n",
        "\n",
        "Обучение моделей на таких данных требует размеченных корпусов текстов, что делает этот подход трудоемким.\n",
        "\n",
        "#### 3. **Глубокое обучение (Deep Learning)**\n",
        "Современные системы NER в значительной степени основываются на глубоких нейронных сетях. Наиболее популярные методы:\n",
        "\n",
        "- **Рекуррентные нейронные сети (RNN)** и их улучшенные версии, такие как LSTM (Long Short-Term Memory) или GRU (Gated Recurrent Units), используются для обработки последовательностей слов. Эти сети учитывают контекст вокруг каждого слова, что позволяет улучшить точность распознавания сущностей.\n",
        "  \n",
        "- **BiLSTM-CRF** — комбинация двунаправленной LSTM с CRF. BiLSTM позволяет учитывать как предыдущие, так и последующие слова в предложении, а CRF решает проблему предсказания последовательностей меток.\n",
        "\n",
        "- **Трансформеры (Transformers)** — модели на основе архитектуры трансформеров, такие как BERT (Bidirectional Encoder Representations from Transformers), являются самыми современными решениями в NER. Эти модели обучаются на больших объемах текстов, чтобы понимать контекст слова в предложении с двух сторон (до и после слова), что значительно улучшает точность.\n"
      ],
      "metadata": {
        "id": "c_GW8p-pTg8X"
      }
    },
    {
      "cell_type": "markdown",
      "source": [
        "### Примеры использования NER\n",
        "\n",
        "1. **Поиск информации** — выделение сущностей позволяет более точно искать данные в больших объемах текстов.\n",
        "2. **Автоматическая обработка документов** — NER используется для извлечения ключевой информации из контрактов, юридических документов, медицинских заключений.\n",
        "3. **Анализ социальных сетей** — помогает распознавать упоминания брендов, людей, мест в постах и комментариях."
      ],
      "metadata": {
        "id": "g9n1I2ocTZEX"
      }
    },
    {
      "cell_type": "markdown",
      "source": [
        "Датасеты для задач Named Entity Recognition (NER) обычно представляют собой текстовые данные с пометками сущностей, которые нужно идентифицировать. В таких датасетах каждая сущность принадлежит одной из нескольких заранее определённых категорий, например, именам людей, организациям, географическим объектам и т.д.\n",
        "\n",
        "### Как устроен датасет для NER\n",
        "1. **Текстовая часть:** Обычные тексты, которые могут включать предложения или абзацы. Например, новостные статьи, документы, переписки и т.п.\n",
        "2. **Аннотации сущностей:** Каждое слово в тексте размечено в соответствии с его принадлежностью к конкретной сущности. Формат разметки обычно в одном из следующих вариантов:\n",
        "   - **IOB формат (Inside-Outside-Beginning):** Каждое слово отмечается как часть сущности (B для начала сущности, I для внутренней части сущности) или как не являющееся частью сущности (O).\n",
        "   - **BIOES формат:** Добавляется еще E (End) для конца сущности и S (Single) для сущности, которая состоит только из одного слова.\n",
        "\n",
        "### Пример:\n",
        "```\n",
        "John B-PER\n",
        "lives O\n",
        "in O\n",
        "New B-LOC\n",
        "York I-LOC\n",
        "```\n",
        "Здесь 'John' помечен как \"PER\" (человек), а \"New York\" как \"LOC\" (место)."
      ],
      "metadata": {
        "id": "qSn3HJu1K69f"
      }
    },
    {
      "cell_type": "markdown",
      "source": [
        "## Датасет 'adsabs/WIESP2022-NER'\n",
        "\n",
        "Датасет **'adsabs/WIESP2022-NER'** на Huggingface относится к задачам распознавания сущностей в научных текстах, связанных с астрономией и астрофизикой. Датасет разработан в рамках исследования WIESP (Workshop on Information Extraction from Scientific Publications 2022).\n",
        "\n",
        "https://huggingface.co/datasets/adsabs/WIESP2022-NER\n",
        "\n",
        "#### Ключевые особенности:\n",
        "1. **Предметная область:** Основное отличие этого датасета заключается в его узкой фокусировке на научных публикациях, особенно в сфере астрономии. Аннотированные сущности в тексте связаны с научными понятиями, например, именами звезд, планет, телескопов, астрономических объектов и методов.\n",
        "   \n",
        "2. **Типы сущностей:** Включает специфические сущности для данной области, такие как астрономические объекты (звезды, галактики), инструменты (телескопы, спутники), термины и единицы измерения, что нехарактерно для стандартных NER-датасетов, где выделяются более общие категории (люди, места, организации).\n",
        "\n",
        "3. **Разметка:** Разметка следовала строгим научным принципам с акцентом на точность. Используются стандартизированные имена объектов и методов, что облегчает извлечение информации и дальнейшую работу с результатами NER в научных базах данных.\n",
        "\n",
        "4. **Объем и структура данных:** Датасет включает тексты научных статей из базы данных NASA ADS (Astrophysics Data System). Тексты представлены в структурированном виде с разделением на абзацы, заголовки и ссылки, что делает его удобным для применения в задачах NER и дальнейшей обработки текстов для извлечения данных."
      ],
      "metadata": {
        "id": "wqmdFkeTT07Q"
      }
    },
    {
      "cell_type": "markdown",
      "source": [
        "### Как работать с датасетом\n",
        "\n",
        "1. **Установка библиотеки:**"
      ],
      "metadata": {
        "id": "csdO4f86UC_U"
      }
    },
    {
      "cell_type": "code",
      "source": [
        "!pip install datasets"
      ],
      "metadata": {
        "colab": {
          "base_uri": "https://localhost:8080/"
        },
        "id": "A-_GaNRlW94v",
        "outputId": "3dbfba70-197e-47d0-a6d9-090bdf5d774f"
      },
      "execution_count": null,
      "outputs": [
        {
          "output_type": "stream",
          "name": "stdout",
          "text": [
            "Collecting datasets\n",
            "  Downloading datasets-3.0.1-py3-none-any.whl.metadata (20 kB)\n",
            "Requirement already satisfied: filelock in /usr/local/lib/python3.10/dist-packages (from datasets) (3.16.1)\n",
            "Requirement already satisfied: numpy>=1.17 in /usr/local/lib/python3.10/dist-packages (from datasets) (1.26.4)\n",
            "Requirement already satisfied: pyarrow>=15.0.0 in /usr/local/lib/python3.10/dist-packages (from datasets) (16.1.0)\n",
            "Collecting dill<0.3.9,>=0.3.0 (from datasets)\n",
            "  Downloading dill-0.3.8-py3-none-any.whl.metadata (10 kB)\n",
            "Requirement already satisfied: pandas in /usr/local/lib/python3.10/dist-packages (from datasets) (2.2.2)\n",
            "Requirement already satisfied: requests>=2.32.2 in /usr/local/lib/python3.10/dist-packages (from datasets) (2.32.3)\n",
            "Requirement already satisfied: tqdm>=4.66.3 in /usr/local/lib/python3.10/dist-packages (from datasets) (4.66.5)\n",
            "Collecting xxhash (from datasets)\n",
            "  Downloading xxhash-3.5.0-cp310-cp310-manylinux_2_17_x86_64.manylinux2014_x86_64.whl.metadata (12 kB)\n",
            "Collecting multiprocess (from datasets)\n",
            "  Downloading multiprocess-0.70.17-py310-none-any.whl.metadata (7.2 kB)\n",
            "Requirement already satisfied: fsspec<=2024.6.1,>=2023.1.0 in /usr/local/lib/python3.10/dist-packages (from fsspec[http]<=2024.6.1,>=2023.1.0->datasets) (2024.6.1)\n",
            "Requirement already satisfied: aiohttp in /usr/local/lib/python3.10/dist-packages (from datasets) (3.10.8)\n",
            "Requirement already satisfied: huggingface-hub>=0.22.0 in /usr/local/lib/python3.10/dist-packages (from datasets) (0.24.7)\n",
            "Requirement already satisfied: packaging in /usr/local/lib/python3.10/dist-packages (from datasets) (24.1)\n",
            "Requirement already satisfied: pyyaml>=5.1 in /usr/local/lib/python3.10/dist-packages (from datasets) (6.0.2)\n",
            "Requirement already satisfied: aiohappyeyeballs>=2.3.0 in /usr/local/lib/python3.10/dist-packages (from aiohttp->datasets) (2.4.3)\n",
            "Requirement already satisfied: aiosignal>=1.1.2 in /usr/local/lib/python3.10/dist-packages (from aiohttp->datasets) (1.3.1)\n",
            "Requirement already satisfied: attrs>=17.3.0 in /usr/local/lib/python3.10/dist-packages (from aiohttp->datasets) (24.2.0)\n",
            "Requirement already satisfied: frozenlist>=1.1.1 in /usr/local/lib/python3.10/dist-packages (from aiohttp->datasets) (1.4.1)\n",
            "Requirement already satisfied: multidict<7.0,>=4.5 in /usr/local/lib/python3.10/dist-packages (from aiohttp->datasets) (6.1.0)\n",
            "Requirement already satisfied: yarl<2.0,>=1.12.0 in /usr/local/lib/python3.10/dist-packages (from aiohttp->datasets) (1.13.1)\n",
            "Requirement already satisfied: async-timeout<5.0,>=4.0 in /usr/local/lib/python3.10/dist-packages (from aiohttp->datasets) (4.0.3)\n",
            "Requirement already satisfied: typing-extensions>=3.7.4.3 in /usr/local/lib/python3.10/dist-packages (from huggingface-hub>=0.22.0->datasets) (4.12.2)\n",
            "Requirement already satisfied: charset-normalizer<4,>=2 in /usr/local/lib/python3.10/dist-packages (from requests>=2.32.2->datasets) (3.3.2)\n",
            "Requirement already satisfied: idna<4,>=2.5 in /usr/local/lib/python3.10/dist-packages (from requests>=2.32.2->datasets) (3.10)\n",
            "Requirement already satisfied: urllib3<3,>=1.21.1 in /usr/local/lib/python3.10/dist-packages (from requests>=2.32.2->datasets) (2.2.3)\n",
            "Requirement already satisfied: certifi>=2017.4.17 in /usr/local/lib/python3.10/dist-packages (from requests>=2.32.2->datasets) (2024.8.30)\n",
            "INFO: pip is looking at multiple versions of multiprocess to determine which version is compatible with other requirements. This could take a while.\n",
            "  Downloading multiprocess-0.70.16-py310-none-any.whl.metadata (7.2 kB)\n",
            "Requirement already satisfied: python-dateutil>=2.8.2 in /usr/local/lib/python3.10/dist-packages (from pandas->datasets) (2.8.2)\n",
            "Requirement already satisfied: pytz>=2020.1 in /usr/local/lib/python3.10/dist-packages (from pandas->datasets) (2024.2)\n",
            "Requirement already satisfied: tzdata>=2022.7 in /usr/local/lib/python3.10/dist-packages (from pandas->datasets) (2024.2)\n",
            "Requirement already satisfied: six>=1.5 in /usr/local/lib/python3.10/dist-packages (from python-dateutil>=2.8.2->pandas->datasets) (1.16.0)\n",
            "Downloading datasets-3.0.1-py3-none-any.whl (471 kB)\n",
            "\u001b[2K   \u001b[90m━━━━━━━━━━━━━━━━━━━━━━━━━━━━━━━━━━━━━━━━\u001b[0m \u001b[32m471.6/471.6 kB\u001b[0m \u001b[31m6.6 MB/s\u001b[0m eta \u001b[36m0:00:00\u001b[0m\n",
            "\u001b[?25hDownloading dill-0.3.8-py3-none-any.whl (116 kB)\n",
            "\u001b[2K   \u001b[90m━━━━━━━━━━━━━━━━━━━━━━━━━━━━━━━━━━━━━━━━\u001b[0m \u001b[32m116.3/116.3 kB\u001b[0m \u001b[31m8.7 MB/s\u001b[0m eta \u001b[36m0:00:00\u001b[0m\n",
            "\u001b[?25hDownloading multiprocess-0.70.16-py310-none-any.whl (134 kB)\n",
            "\u001b[2K   \u001b[90m━━━━━━━━━━━━━━━━━━━━━━━━━━━━━━━━━━━━━━━━\u001b[0m \u001b[32m134.8/134.8 kB\u001b[0m \u001b[31m6.5 MB/s\u001b[0m eta \u001b[36m0:00:00\u001b[0m\n",
            "\u001b[?25hDownloading xxhash-3.5.0-cp310-cp310-manylinux_2_17_x86_64.manylinux2014_x86_64.whl (194 kB)\n",
            "\u001b[2K   \u001b[90m━━━━━━━━━━━━━━━━━━━━━━━━━━━━━━━━━━━━━━━━\u001b[0m \u001b[32m194.1/194.1 kB\u001b[0m \u001b[31m11.6 MB/s\u001b[0m eta \u001b[36m0:00:00\u001b[0m\n",
            "\u001b[?25hInstalling collected packages: xxhash, dill, multiprocess, datasets\n",
            "Successfully installed datasets-3.0.1 dill-0.3.8 multiprocess-0.70.16 xxhash-3.5.0\n"
          ]
        }
      ]
    },
    {
      "cell_type": "markdown",
      "source": [
        "2. **Загрузка датасета:**\n"
      ],
      "metadata": {
        "id": "PBtQMc8VW5B1"
      }
    },
    {
      "cell_type": "code",
      "source": [
        "from datasets import load_dataset\n",
        "\n",
        "# Этой задаче в 2022 году была посвящена статья https://aclanthology.org/2022.wiesp-1.1.pdf\n",
        "# и даже целый воркшоп https://ui.adsabs.harvard.edu/WIESP/\n",
        "DATASET_NAME = 'adsabs/WIESP2022-NER'\n",
        "\n",
        "trainset = load_dataset(DATASET_NAME, split='train')"
      ],
      "metadata": {
        "id": "vmEEzWRcXNcq"
      },
      "execution_count": null,
      "outputs": []
    },
    {
      "cell_type": "markdown",
      "source": [
        "3. **Просмотр данных:**"
      ],
      "metadata": {
        "id": "mSvZw7dNXIho"
      }
    },
    {
      "cell_type": "code",
      "source": [
        "print(trainset[0])  # Вывод первого примера из обучающего набора"
      ],
      "metadata": {
        "colab": {
          "base_uri": "https://localhost:8080/"
        },
        "id": "uLnbIHAGXWAL",
        "outputId": "10f7f85f-2ce0-4974-8769-5b790e74d8d1"
      },
      "execution_count": null,
      "outputs": [
        {
          "output_type": "stream",
          "name": "stdout",
          "text": [
            "{'bibcode': '2019MNRAS.486.5558S', 'label_studio_id': 487, 'ner_ids': [62, 62, 62, 62, 62, 62, 62, 15, 62, 62, 62, 62, 62, 62, 62, 62, 62, 62, 62, 62, 62, 62, 62, 62, 62, 62, 62, 62, 62, 62, 62, 62, 62, 62, 62, 62, 62, 62, 62, 62, 62, 62, 62, 62, 62, 62, 62, 62, 62, 62, 62, 62, 62, 62, 17, 62, 62, 62, 62, 62, 62, 62, 62, 62, 62, 62, 62, 62, 62, 62, 62, 62, 62, 62, 15, 62, 4, 35, 35, 35, 35, 35, 62, 62, 62, 62, 4, 35, 35, 35, 35, 35, 35, 62, 4, 35, 35, 35, 35, 35, 35, 62, 62, 62, 62, 62, 62, 62, 62, 62, 62, 62, 62, 62, 62, 15, 62, 62, 62, 62, 62, 62, 62, 62, 62, 62, 62, 62, 62, 62, 17, 15, 27, 62, 30, 61, 62, 62, 30, 61, 62, 62, 62, 4, 35, 35, 35, 35, 35, 35, 4, 35, 35, 35, 35, 35, 35, 62, 4, 35, 35, 35, 35, 35, 62, 62, 62, 17, 62, 15, 62, 62, 62, 62, 62, 62, 62, 62, 62, 62, 62, 62, 62, 62, 62, 62, 62, 62, 62, 62, 62, 62, 62, 62, 62, 62, 62, 62, 62, 62, 62, 62, 62, 62, 62, 62, 62, 62, 62, 62, 62, 62, 62, 62, 62, 62, 62, 62, 62, 62, 62, 62, 62, 62, 62, 62, 62, 62, 62, 62, 62, 62, 62, 62, 62, 62, 4, 35, 35, 35, 35, 35, 62, 4, 35, 35, 35, 35, 62, 62, 62, 62, 62, 62, 62, 62, 62, 62, 62, 62, 62, 62, 4, 35, 35, 62, 62, 62, 62, 62, 62, 62, 62, 62, 62, 62, 62, 62, 62, 62, 62, 62, 62, 62, 62, 62, 62, 62, 62, 62, 62, 62, 62, 62, 62, 62, 62, 62, 62, 62, 62, 62, 62, 62, 62, 62, 62, 62, 62, 62, 62, 62, 18, 49, 4, 35, 62, 4, 35, 62, 62, 62, 62, 24, 62, 24, 55, 62, 62, 24, 62, 4, 35, 35, 62, 62, 62, 62, 62, 62, 62, 62, 62, 62, 62, 4, 35, 35, 35, 35, 35, 62, 62, 62, 62, 62, 62, 62, 62, 4, 35, 35, 35, 62, 62, 15, 62, 62, 62, 62, 12, 43, 43, 43, 43, 62, 62, 62, 62, 62, 17, 62, 4, 35, 35, 35, 62, 62, 62, 62, 62, 62, 62, 62, 62, 62, 62, 62, 62, 62, 62, 62, 62, 62, 62, 62, 4, 35, 35, 35, 62, 62, 62, 62, 62, 62, 62, 62, 62, 62, 62, 62, 62, 62, 62, 62, 62, 62, 62, 62, 62, 62, 62, 62, 62, 62, 62, 62, 62, 62, 62, 62, 62, 62, 15, 62, 62, 62, 62, 62, 62, 62, 62, 12, 43, 43, 43, 62, 62, 62, 62, 62, 62, 62, 62, 62, 62, 62, 62, 62, 62, 62, 62, 62, 62, 62, 62, 62, 62, 62, 62, 62, 62, 62, 15, 62, 62, 62, 62, 62, 62, 62, 62, 62, 62, 62, 62, 62, 62, 62, 62, 62, 62, 62, 62, 62, 62, 62, 62, 62, 62, 62, 62, 62, 62, 62, 62, 62, 62, 62, 62, 62, 62, 62, 62, 62, 62, 62, 62, 62, 62, 62, 62, 62, 62, 62], 'ner_tags': ['O', 'O', 'O', 'O', 'O', 'O', 'O', 'B-Instrument', 'O', 'O', 'O', 'O', 'O', 'O', 'O', 'O', 'O', 'O', 'O', 'O', 'O', 'O', 'O', 'O', 'O', 'O', 'O', 'O', 'O', 'O', 'O', 'O', 'O', 'O', 'O', 'O', 'O', 'O', 'O', 'O', 'O', 'O', 'O', 'O', 'O', 'O', 'O', 'O', 'O', 'O', 'O', 'O', 'O', 'O', 'B-Mission', 'O', 'O', 'O', 'O', 'O', 'O', 'O', 'O', 'O', 'O', 'O', 'O', 'O', 'O', 'O', 'O', 'O', 'O', 'O', 'B-Instrument', 'O', 'B-Citation', 'I-Citation', 'I-Citation', 'I-Citation', 'I-Citation', 'I-Citation', 'O', 'O', 'O', 'O', 'B-Citation', 'I-Citation', 'I-Citation', 'I-Citation', 'I-Citation', 'I-Citation', 'I-Citation', 'O', 'B-Citation', 'I-Citation', 'I-Citation', 'I-Citation', 'I-Citation', 'I-Citation', 'I-Citation', 'O', 'O', 'O', 'O', 'O', 'O', 'O', 'O', 'O', 'O', 'O', 'O', 'O', 'O', 'B-Instrument', 'O', 'O', 'O', 'O', 'O', 'O', 'O', 'O', 'O', 'O', 'O', 'O', 'O', 'O', 'B-Mission', 'B-Instrument', 'B-Telescope', 'O', 'B-Wavelength', 'I-Wavelength', 'O', 'O', 'B-Wavelength', 'I-Wavelength', 'O', 'O', 'O', 'B-Citation', 'I-Citation', 'I-Citation', 'I-Citation', 'I-Citation', 'I-Citation', 'I-Citation', 'B-Citation', 'I-Citation', 'I-Citation', 'I-Citation', 'I-Citation', 'I-Citation', 'I-Citation', 'O', 'B-Citation', 'I-Citation', 'I-Citation', 'I-Citation', 'I-Citation', 'I-Citation', 'O', 'O', 'O', 'B-Mission', 'O', 'B-Instrument', 'O', 'O', 'O', 'O', 'O', 'O', 'O', 'O', 'O', 'O', 'O', 'O', 'O', 'O', 'O', 'O', 'O', 'O', 'O', 'O', 'O', 'O', 'O', 'O', 'O', 'O', 'O', 'O', 'O', 'O', 'O', 'O', 'O', 'O', 'O', 'O', 'O', 'O', 'O', 'O', 'O', 'O', 'O', 'O', 'O', 'O', 'O', 'O', 'O', 'O', 'O', 'O', 'O', 'O', 'O', 'O', 'O', 'O', 'O', 'O', 'O', 'O', 'O', 'O', 'O', 'O', 'B-Citation', 'I-Citation', 'I-Citation', 'I-Citation', 'I-Citation', 'I-Citation', 'O', 'B-Citation', 'I-Citation', 'I-Citation', 'I-Citation', 'I-Citation', 'O', 'O', 'O', 'O', 'O', 'O', 'O', 'O', 'O', 'O', 'O', 'O', 'O', 'O', 'B-Citation', 'I-Citation', 'I-Citation', 'O', 'O', 'O', 'O', 'O', 'O', 'O', 'O', 'O', 'O', 'O', 'O', 'O', 'O', 'O', 'O', 'O', 'O', 'O', 'O', 'O', 'O', 'O', 'O', 'O', 'O', 'O', 'O', 'O', 'O', 'O', 'O', 'O', 'O', 'O', 'O', 'O', 'O', 'O', 'O', 'O', 'O', 'O', 'O', 'O', 'O', 'O', 'B-Model', 'I-Model', 'B-Citation', 'I-Citation', 'O', 'B-Citation', 'I-Citation', 'O', 'O', 'O', 'O', 'B-Software', 'O', 'B-Software', 'I-Software', 'O', 'O', 'B-Software', 'O', 'B-Citation', 'I-Citation', 'I-Citation', 'O', 'O', 'O', 'O', 'O', 'O', 'O', 'O', 'O', 'O', 'O', 'B-Citation', 'I-Citation', 'I-Citation', 'I-Citation', 'I-Citation', 'I-Citation', 'O', 'O', 'O', 'O', 'O', 'O', 'O', 'O', 'B-Citation', 'I-Citation', 'I-Citation', 'I-Citation', 'O', 'O', 'B-Instrument', 'O', 'O', 'O', 'O', 'B-Formula', 'I-Formula', 'I-Formula', 'I-Formula', 'I-Formula', 'O', 'O', 'O', 'O', 'O', 'B-Mission', 'O', 'B-Citation', 'I-Citation', 'I-Citation', 'I-Citation', 'O', 'O', 'O', 'O', 'O', 'O', 'O', 'O', 'O', 'O', 'O', 'O', 'O', 'O', 'O', 'O', 'O', 'O', 'O', 'O', 'B-Citation', 'I-Citation', 'I-Citation', 'I-Citation', 'O', 'O', 'O', 'O', 'O', 'O', 'O', 'O', 'O', 'O', 'O', 'O', 'O', 'O', 'O', 'O', 'O', 'O', 'O', 'O', 'O', 'O', 'O', 'O', 'O', 'O', 'O', 'O', 'O', 'O', 'O', 'O', 'O', 'O', 'B-Instrument', 'O', 'O', 'O', 'O', 'O', 'O', 'O', 'O', 'B-Formula', 'I-Formula', 'I-Formula', 'I-Formula', 'O', 'O', 'O', 'O', 'O', 'O', 'O', 'O', 'O', 'O', 'O', 'O', 'O', 'O', 'O', 'O', 'O', 'O', 'O', 'O', 'O', 'O', 'O', 'O', 'O', 'O', 'O', 'B-Instrument', 'O', 'O', 'O', 'O', 'O', 'O', 'O', 'O', 'O', 'O', 'O', 'O', 'O', 'O', 'O', 'O', 'O', 'O', 'O', 'O', 'O', 'O', 'O', 'O', 'O', 'O', 'O', 'O', 'O', 'O', 'O', 'O', 'O', 'O', 'O', 'O', 'O', 'O', 'O', 'O', 'O', 'O', 'O', 'O', 'O', 'O', 'O', 'O', 'O', 'O', 'O'], 'section': 'fulltext', 'tokens': ['Whilst', 'a', 'reasonable', 'harmonic', 'fit', 'to', 'the', 'ESPaDOnS', 'data', 'can', 'be', 'achieved', 'using', 'this', 'period,', 'it', 'does', 'not', 'produce', 'an', 'acceptable', 'phasing', 'of', 'all', 'available', '〈', 'B', 'z', '〉', 'measurements.', 'Figure', '1.', 'Photometric', '(', 'top', ')', 'and', 'magnetic', '〈', 'B', 'z', '〉', '(', 'bottom', ')', 'measurements,', 'phased', 'with', 'periods', 'determined', 'from', '(left', 'to', 'right)', 'K2', 'photometry,', 'all', '〈', 'B', 'z', '〉', 'measurements,', 'and', 'all', 'photometric', 'measurements.', '〈', 'B', 'z', '〉', 'measurements', 'were', 'obtained', 'from', 'ESPaDOnS', 'by', 'Shultz', 'et', 'al.', '(', '2018', ')', 'and', 'photopolarimetric', 'data', 'by', 'Borra', 'et', 'al.', '(', '1983', ',', 'BLT83)', 'and', 'Bohlender', 'et', 'al.', '(', '1993', ',', 'BLT93).', 'The', 'solid', 'and', 'dashed', 'curves', 'show,', 'respectively,', 'the', 'best', 'second-order', 'harmonic', 'fit', 'to', 'the', 'ESPaDOnS', '〈', 'B', 'z', '〉', 'data', 'and', 'the', '1σ', 'fit', 'uncertainty.', 'Photometric', 'data', 'are', 'from', 'K2,', 'SMEI,', 'Hipparcos', '(', 'H', 'p', '),', 'and', 'Strömgren', 'y', 'photometry', 'published', 'by', 'Sterken', 'et', 'al.', '(', '1995', ',', 'S95),', 'Manfroid', 'et', 'al.', '(', '1995', ',', 'M95),', 'and', 'Pedersen', 'Thomsen', '(', '1977', ',', 'P77).', 'For', 'clarity', 'the', 'K2', 'and', 'SMEI', 'data', 'have', 'been', 'binned', 'by', 'phase,', 'using', 'bin', 'sizes', 'of', '0.01', 'cycles.', 'The', 'mean', 'magnitude', 'of', 'each', 'data', 'set', 'was', 'subtracted', 'for', 'display', 'purposes.', 'All', 'of', 'the', 'periods', 'obtained', 'since', 'the', 'year', '2000', 'are', 'approximately', 'consistent', 'with', 'one', 'another;', 'the', 'two', 'periods', 'determined', 'using', 'photometric', 'data', 'obtained', 'prior', 'to', 'the', 'year', '2000', 'are', 'also', 'consistent', 'with', 'one', 'another.', 'At', 'the', 'same', 'time,', 'the', 'difference', 'between', 'the', 'Bowman', 'et', 'al.', '(', '2018', ')', 'and', 'Catalano', 'Leone', '(', '1996', ')', 'periods,', '0.00015', 'd,', 'is', 'almost', 'eight', 'times', 'larger', 'than', 'the', 'formal', 'uncertainty', 'in', 'the', 'Bowman', 'et', 'al.', 'period', '(the', 'less', 'precise', 'of', 'the', 'two).', 'This', 'suggests', 'that', 'the', 'period', 'may', 'have', 'changed.', '3.2', 'Period', 'analysis', 'We', 'now', 'turn', 'to', 'a', 're-examination', 'of', 'the', 'period', 'analysis', 'of', 'the', 'individual', 'data', 'sets;', 'the', 'results', 'are', 'summarized', 'in', 'Table', '2', '.', 'Period', 'analysis', 'was', 'performed', 'using', 'standard', 'Lomb–Scargle', 'statistics', '(Lomb', '1976', ';', 'Scargle', '1982', '),', 'utilizing', 'both', 'the', 'idl', 'program', 'periodogram', '4', 'and', 'the', 'period04', 'package', '(Lenz', 'Breger', '2005', ').', 'The', 'uncertainties', 'were', 'determined', 'in', 'the', 'same', 'manner', 'as', 'by', 'Shultz', 'et', 'al.', '(', '2018', '),', 'i.e.', 'according', 'to', 'the', 'analytic', 'method', 'described', 'by', 'Bloomfield', '(', '1976', ').', 'Examining', 'the', 'ESPaDOnS', 'data', 'in', 'isolation', 'yields', 'P', 'rot', '=', '0.97887(6)', 'd,', 'consistent', 'within', 'uncertainty', 'with', 'the', 'K2', 'period', '(Bowman', 'et', 'al.', '2018', ').', 'The', 'period', 'determined', 'from', 'all', 'available', 'magnetic', 'data', '(i.e.', 'including', 'the', 'previously', 'overlooked', '〈', 'B', 'z', '〉', 'measurements', 'of', 'Borra', 'et', 'al.', '1983', ')', 'is', '0.979855(5)', 'd.', 'The', 'photometric', 'and', 'magnetic', 'data', 'are', 'shown', 'phased', 'with', 'this', 'period', 'in', 'the', 'middle', 'panel', 'of', 'Fig.', '1', '.', 'Phasing', '〈', 'B', 'z', '〉', 'with', 'this', 'period', 'and', 'fitting', 'the', 'ESPaDOnS', 'data', 'with', 'a', 'second-order', 'sinusoid', 'yields', 'a', 'reduced', 'χ', '2', '=', '5,', 'i.e.', 'a', 'poor', 'fit.', 'This', 'period', 'also', 'does', 'not', 'provide', 'a', 'coherent', 'phasing', 'of', 'the', 'majority', 'of', 'the', 'photometric', 'data', 'set.', 'Notably,', 'the', 'variation', 'in', 'the', 'phase-binned', 'SMEI', 'data', 'almost', 'completely', 'disappears,', 'likely', 'because', 'observations', 'are', 'being', 'binned', 'as', 'though', 'they', 'were', 'at', 'the', 'same', 'phase', 'when,', 'in', 'fact,', 'they', 'are', 'not.', 'We', 'can', 'also', 'combine', 'all', 'available', 'photometric', 'data', '(shifted', 'to', 'the', 'mean', 'magnitude', 'of', 'each', 'data', 'set,', 'as', 'in', 'Fig.', '1', '),', 'which', 'yields', 'P', 'rot', '='], 'unique_id': 'fulltext_487_2019MNRAS.486.5558S'}\n"
          ]
        }
      ]
    },
    {
      "cell_type": "code",
      "source": [
        "for k in sorted(trainset[0].keys()):\n",
        "    print(f'{k}\\t{trainset[0][k]}')"
      ],
      "metadata": {
        "colab": {
          "base_uri": "https://localhost:8080/"
        },
        "id": "iAnzC0UTeP81",
        "outputId": "1b65a2e3-ea1d-4e01-ef24-432355e22d75"
      },
      "execution_count": null,
      "outputs": [
        {
          "output_type": "stream",
          "name": "stdout",
          "text": [
            "bibcode\t2019MNRAS.486.5558S\n",
            "label_studio_id\t487\n",
            "ner_ids\t[62, 62, 62, 62, 62, 62, 62, 15, 62, 62, 62, 62, 62, 62, 62, 62, 62, 62, 62, 62, 62, 62, 62, 62, 62, 62, 62, 62, 62, 62, 62, 62, 62, 62, 62, 62, 62, 62, 62, 62, 62, 62, 62, 62, 62, 62, 62, 62, 62, 62, 62, 62, 62, 62, 17, 62, 62, 62, 62, 62, 62, 62, 62, 62, 62, 62, 62, 62, 62, 62, 62, 62, 62, 62, 15, 62, 4, 35, 35, 35, 35, 35, 62, 62, 62, 62, 4, 35, 35, 35, 35, 35, 35, 62, 4, 35, 35, 35, 35, 35, 35, 62, 62, 62, 62, 62, 62, 62, 62, 62, 62, 62, 62, 62, 62, 15, 62, 62, 62, 62, 62, 62, 62, 62, 62, 62, 62, 62, 62, 62, 17, 15, 27, 62, 30, 61, 62, 62, 30, 61, 62, 62, 62, 4, 35, 35, 35, 35, 35, 35, 4, 35, 35, 35, 35, 35, 35, 62, 4, 35, 35, 35, 35, 35, 62, 62, 62, 17, 62, 15, 62, 62, 62, 62, 62, 62, 62, 62, 62, 62, 62, 62, 62, 62, 62, 62, 62, 62, 62, 62, 62, 62, 62, 62, 62, 62, 62, 62, 62, 62, 62, 62, 62, 62, 62, 62, 62, 62, 62, 62, 62, 62, 62, 62, 62, 62, 62, 62, 62, 62, 62, 62, 62, 62, 62, 62, 62, 62, 62, 62, 62, 62, 62, 62, 62, 62, 4, 35, 35, 35, 35, 35, 62, 4, 35, 35, 35, 35, 62, 62, 62, 62, 62, 62, 62, 62, 62, 62, 62, 62, 62, 62, 4, 35, 35, 62, 62, 62, 62, 62, 62, 62, 62, 62, 62, 62, 62, 62, 62, 62, 62, 62, 62, 62, 62, 62, 62, 62, 62, 62, 62, 62, 62, 62, 62, 62, 62, 62, 62, 62, 62, 62, 62, 62, 62, 62, 62, 62, 62, 62, 62, 62, 18, 49, 4, 35, 62, 4, 35, 62, 62, 62, 62, 24, 62, 24, 55, 62, 62, 24, 62, 4, 35, 35, 62, 62, 62, 62, 62, 62, 62, 62, 62, 62, 62, 4, 35, 35, 35, 35, 35, 62, 62, 62, 62, 62, 62, 62, 62, 4, 35, 35, 35, 62, 62, 15, 62, 62, 62, 62, 12, 43, 43, 43, 43, 62, 62, 62, 62, 62, 17, 62, 4, 35, 35, 35, 62, 62, 62, 62, 62, 62, 62, 62, 62, 62, 62, 62, 62, 62, 62, 62, 62, 62, 62, 62, 4, 35, 35, 35, 62, 62, 62, 62, 62, 62, 62, 62, 62, 62, 62, 62, 62, 62, 62, 62, 62, 62, 62, 62, 62, 62, 62, 62, 62, 62, 62, 62, 62, 62, 62, 62, 62, 62, 15, 62, 62, 62, 62, 62, 62, 62, 62, 12, 43, 43, 43, 62, 62, 62, 62, 62, 62, 62, 62, 62, 62, 62, 62, 62, 62, 62, 62, 62, 62, 62, 62, 62, 62, 62, 62, 62, 62, 62, 15, 62, 62, 62, 62, 62, 62, 62, 62, 62, 62, 62, 62, 62, 62, 62, 62, 62, 62, 62, 62, 62, 62, 62, 62, 62, 62, 62, 62, 62, 62, 62, 62, 62, 62, 62, 62, 62, 62, 62, 62, 62, 62, 62, 62, 62, 62, 62, 62, 62, 62, 62]\n",
            "ner_tags\t['O', 'O', 'O', 'O', 'O', 'O', 'O', 'B-Instrument', 'O', 'O', 'O', 'O', 'O', 'O', 'O', 'O', 'O', 'O', 'O', 'O', 'O', 'O', 'O', 'O', 'O', 'O', 'O', 'O', 'O', 'O', 'O', 'O', 'O', 'O', 'O', 'O', 'O', 'O', 'O', 'O', 'O', 'O', 'O', 'O', 'O', 'O', 'O', 'O', 'O', 'O', 'O', 'O', 'O', 'O', 'B-Mission', 'O', 'O', 'O', 'O', 'O', 'O', 'O', 'O', 'O', 'O', 'O', 'O', 'O', 'O', 'O', 'O', 'O', 'O', 'O', 'B-Instrument', 'O', 'B-Citation', 'I-Citation', 'I-Citation', 'I-Citation', 'I-Citation', 'I-Citation', 'O', 'O', 'O', 'O', 'B-Citation', 'I-Citation', 'I-Citation', 'I-Citation', 'I-Citation', 'I-Citation', 'I-Citation', 'O', 'B-Citation', 'I-Citation', 'I-Citation', 'I-Citation', 'I-Citation', 'I-Citation', 'I-Citation', 'O', 'O', 'O', 'O', 'O', 'O', 'O', 'O', 'O', 'O', 'O', 'O', 'O', 'O', 'B-Instrument', 'O', 'O', 'O', 'O', 'O', 'O', 'O', 'O', 'O', 'O', 'O', 'O', 'O', 'O', 'B-Mission', 'B-Instrument', 'B-Telescope', 'O', 'B-Wavelength', 'I-Wavelength', 'O', 'O', 'B-Wavelength', 'I-Wavelength', 'O', 'O', 'O', 'B-Citation', 'I-Citation', 'I-Citation', 'I-Citation', 'I-Citation', 'I-Citation', 'I-Citation', 'B-Citation', 'I-Citation', 'I-Citation', 'I-Citation', 'I-Citation', 'I-Citation', 'I-Citation', 'O', 'B-Citation', 'I-Citation', 'I-Citation', 'I-Citation', 'I-Citation', 'I-Citation', 'O', 'O', 'O', 'B-Mission', 'O', 'B-Instrument', 'O', 'O', 'O', 'O', 'O', 'O', 'O', 'O', 'O', 'O', 'O', 'O', 'O', 'O', 'O', 'O', 'O', 'O', 'O', 'O', 'O', 'O', 'O', 'O', 'O', 'O', 'O', 'O', 'O', 'O', 'O', 'O', 'O', 'O', 'O', 'O', 'O', 'O', 'O', 'O', 'O', 'O', 'O', 'O', 'O', 'O', 'O', 'O', 'O', 'O', 'O', 'O', 'O', 'O', 'O', 'O', 'O', 'O', 'O', 'O', 'O', 'O', 'O', 'O', 'O', 'O', 'B-Citation', 'I-Citation', 'I-Citation', 'I-Citation', 'I-Citation', 'I-Citation', 'O', 'B-Citation', 'I-Citation', 'I-Citation', 'I-Citation', 'I-Citation', 'O', 'O', 'O', 'O', 'O', 'O', 'O', 'O', 'O', 'O', 'O', 'O', 'O', 'O', 'B-Citation', 'I-Citation', 'I-Citation', 'O', 'O', 'O', 'O', 'O', 'O', 'O', 'O', 'O', 'O', 'O', 'O', 'O', 'O', 'O', 'O', 'O', 'O', 'O', 'O', 'O', 'O', 'O', 'O', 'O', 'O', 'O', 'O', 'O', 'O', 'O', 'O', 'O', 'O', 'O', 'O', 'O', 'O', 'O', 'O', 'O', 'O', 'O', 'O', 'O', 'O', 'O', 'B-Model', 'I-Model', 'B-Citation', 'I-Citation', 'O', 'B-Citation', 'I-Citation', 'O', 'O', 'O', 'O', 'B-Software', 'O', 'B-Software', 'I-Software', 'O', 'O', 'B-Software', 'O', 'B-Citation', 'I-Citation', 'I-Citation', 'O', 'O', 'O', 'O', 'O', 'O', 'O', 'O', 'O', 'O', 'O', 'B-Citation', 'I-Citation', 'I-Citation', 'I-Citation', 'I-Citation', 'I-Citation', 'O', 'O', 'O', 'O', 'O', 'O', 'O', 'O', 'B-Citation', 'I-Citation', 'I-Citation', 'I-Citation', 'O', 'O', 'B-Instrument', 'O', 'O', 'O', 'O', 'B-Formula', 'I-Formula', 'I-Formula', 'I-Formula', 'I-Formula', 'O', 'O', 'O', 'O', 'O', 'B-Mission', 'O', 'B-Citation', 'I-Citation', 'I-Citation', 'I-Citation', 'O', 'O', 'O', 'O', 'O', 'O', 'O', 'O', 'O', 'O', 'O', 'O', 'O', 'O', 'O', 'O', 'O', 'O', 'O', 'O', 'B-Citation', 'I-Citation', 'I-Citation', 'I-Citation', 'O', 'O', 'O', 'O', 'O', 'O', 'O', 'O', 'O', 'O', 'O', 'O', 'O', 'O', 'O', 'O', 'O', 'O', 'O', 'O', 'O', 'O', 'O', 'O', 'O', 'O', 'O', 'O', 'O', 'O', 'O', 'O', 'O', 'O', 'B-Instrument', 'O', 'O', 'O', 'O', 'O', 'O', 'O', 'O', 'B-Formula', 'I-Formula', 'I-Formula', 'I-Formula', 'O', 'O', 'O', 'O', 'O', 'O', 'O', 'O', 'O', 'O', 'O', 'O', 'O', 'O', 'O', 'O', 'O', 'O', 'O', 'O', 'O', 'O', 'O', 'O', 'O', 'O', 'O', 'B-Instrument', 'O', 'O', 'O', 'O', 'O', 'O', 'O', 'O', 'O', 'O', 'O', 'O', 'O', 'O', 'O', 'O', 'O', 'O', 'O', 'O', 'O', 'O', 'O', 'O', 'O', 'O', 'O', 'O', 'O', 'O', 'O', 'O', 'O', 'O', 'O', 'O', 'O', 'O', 'O', 'O', 'O', 'O', 'O', 'O', 'O', 'O', 'O', 'O', 'O', 'O', 'O']\n",
            "section\tfulltext\n",
            "tokens\t['Whilst', 'a', 'reasonable', 'harmonic', 'fit', 'to', 'the', 'ESPaDOnS', 'data', 'can', 'be', 'achieved', 'using', 'this', 'period,', 'it', 'does', 'not', 'produce', 'an', 'acceptable', 'phasing', 'of', 'all', 'available', '〈', 'B', 'z', '〉', 'measurements.', 'Figure', '1.', 'Photometric', '(', 'top', ')', 'and', 'magnetic', '〈', 'B', 'z', '〉', '(', 'bottom', ')', 'measurements,', 'phased', 'with', 'periods', 'determined', 'from', '(left', 'to', 'right)', 'K2', 'photometry,', 'all', '〈', 'B', 'z', '〉', 'measurements,', 'and', 'all', 'photometric', 'measurements.', '〈', 'B', 'z', '〉', 'measurements', 'were', 'obtained', 'from', 'ESPaDOnS', 'by', 'Shultz', 'et', 'al.', '(', '2018', ')', 'and', 'photopolarimetric', 'data', 'by', 'Borra', 'et', 'al.', '(', '1983', ',', 'BLT83)', 'and', 'Bohlender', 'et', 'al.', '(', '1993', ',', 'BLT93).', 'The', 'solid', 'and', 'dashed', 'curves', 'show,', 'respectively,', 'the', 'best', 'second-order', 'harmonic', 'fit', 'to', 'the', 'ESPaDOnS', '〈', 'B', 'z', '〉', 'data', 'and', 'the', '1σ', 'fit', 'uncertainty.', 'Photometric', 'data', 'are', 'from', 'K2,', 'SMEI,', 'Hipparcos', '(', 'H', 'p', '),', 'and', 'Strömgren', 'y', 'photometry', 'published', 'by', 'Sterken', 'et', 'al.', '(', '1995', ',', 'S95),', 'Manfroid', 'et', 'al.', '(', '1995', ',', 'M95),', 'and', 'Pedersen', 'Thomsen', '(', '1977', ',', 'P77).', 'For', 'clarity', 'the', 'K2', 'and', 'SMEI', 'data', 'have', 'been', 'binned', 'by', 'phase,', 'using', 'bin', 'sizes', 'of', '0.01', 'cycles.', 'The', 'mean', 'magnitude', 'of', 'each', 'data', 'set', 'was', 'subtracted', 'for', 'display', 'purposes.', 'All', 'of', 'the', 'periods', 'obtained', 'since', 'the', 'year', '2000', 'are', 'approximately', 'consistent', 'with', 'one', 'another;', 'the', 'two', 'periods', 'determined', 'using', 'photometric', 'data', 'obtained', 'prior', 'to', 'the', 'year', '2000', 'are', 'also', 'consistent', 'with', 'one', 'another.', 'At', 'the', 'same', 'time,', 'the', 'difference', 'between', 'the', 'Bowman', 'et', 'al.', '(', '2018', ')', 'and', 'Catalano', 'Leone', '(', '1996', ')', 'periods,', '0.00015', 'd,', 'is', 'almost', 'eight', 'times', 'larger', 'than', 'the', 'formal', 'uncertainty', 'in', 'the', 'Bowman', 'et', 'al.', 'period', '(the', 'less', 'precise', 'of', 'the', 'two).', 'This', 'suggests', 'that', 'the', 'period', 'may', 'have', 'changed.', '3.2', 'Period', 'analysis', 'We', 'now', 'turn', 'to', 'a', 're-examination', 'of', 'the', 'period', 'analysis', 'of', 'the', 'individual', 'data', 'sets;', 'the', 'results', 'are', 'summarized', 'in', 'Table', '2', '.', 'Period', 'analysis', 'was', 'performed', 'using', 'standard', 'Lomb–Scargle', 'statistics', '(Lomb', '1976', ';', 'Scargle', '1982', '),', 'utilizing', 'both', 'the', 'idl', 'program', 'periodogram', '4', 'and', 'the', 'period04', 'package', '(Lenz', 'Breger', '2005', ').', 'The', 'uncertainties', 'were', 'determined', 'in', 'the', 'same', 'manner', 'as', 'by', 'Shultz', 'et', 'al.', '(', '2018', '),', 'i.e.', 'according', 'to', 'the', 'analytic', 'method', 'described', 'by', 'Bloomfield', '(', '1976', ').', 'Examining', 'the', 'ESPaDOnS', 'data', 'in', 'isolation', 'yields', 'P', 'rot', '=', '0.97887(6)', 'd,', 'consistent', 'within', 'uncertainty', 'with', 'the', 'K2', 'period', '(Bowman', 'et', 'al.', '2018', ').', 'The', 'period', 'determined', 'from', 'all', 'available', 'magnetic', 'data', '(i.e.', 'including', 'the', 'previously', 'overlooked', '〈', 'B', 'z', '〉', 'measurements', 'of', 'Borra', 'et', 'al.', '1983', ')', 'is', '0.979855(5)', 'd.', 'The', 'photometric', 'and', 'magnetic', 'data', 'are', 'shown', 'phased', 'with', 'this', 'period', 'in', 'the', 'middle', 'panel', 'of', 'Fig.', '1', '.', 'Phasing', '〈', 'B', 'z', '〉', 'with', 'this', 'period', 'and', 'fitting', 'the', 'ESPaDOnS', 'data', 'with', 'a', 'second-order', 'sinusoid', 'yields', 'a', 'reduced', 'χ', '2', '=', '5,', 'i.e.', 'a', 'poor', 'fit.', 'This', 'period', 'also', 'does', 'not', 'provide', 'a', 'coherent', 'phasing', 'of', 'the', 'majority', 'of', 'the', 'photometric', 'data', 'set.', 'Notably,', 'the', 'variation', 'in', 'the', 'phase-binned', 'SMEI', 'data', 'almost', 'completely', 'disappears,', 'likely', 'because', 'observations', 'are', 'being', 'binned', 'as', 'though', 'they', 'were', 'at', 'the', 'same', 'phase', 'when,', 'in', 'fact,', 'they', 'are', 'not.', 'We', 'can', 'also', 'combine', 'all', 'available', 'photometric', 'data', '(shifted', 'to', 'the', 'mean', 'magnitude', 'of', 'each', 'data', 'set,', 'as', 'in', 'Fig.', '1', '),', 'which', 'yields', 'P', 'rot', '=']\n",
            "unique_id\tfulltext_487_2019MNRAS.486.5558S\n"
          ]
        }
      ]
    },
    {
      "cell_type": "markdown",
      "source": [
        "4. **Работа с данными:**\n",
        "   Вы можете итерироваться по записям и извлекать текст и аннотации:"
      ],
      "metadata": {
        "id": "5sXOtWZqXTja"
      }
    },
    {
      "cell_type": "code",
      "source": [
        "label_set = set()\n",
        "for it in trainset['ner_tags']:\n",
        "    label_set |= set(it)\n",
        "label_list = ['O'] + sorted(list(label_set - {'O'}))"
      ],
      "metadata": {
        "id": "LOCLUmFLXlEp"
      },
      "execution_count": null,
      "outputs": []
    },
    {
      "cell_type": "code",
      "source": [
        "label_list"
      ],
      "metadata": {
        "colab": {
          "base_uri": "https://localhost:8080/"
        },
        "id": "bDxKFg4legiF",
        "outputId": "ca8874df-32d2-4f6c-8286-cd7cf7374f62"
      },
      "execution_count": null,
      "outputs": [
        {
          "output_type": "execute_result",
          "data": {
            "text/plain": [
              "['O',\n",
              " 'B-Archive',\n",
              " 'B-CelestialObject',\n",
              " 'B-CelestialObjectRegion',\n",
              " 'B-CelestialRegion',\n",
              " 'B-Citation',\n",
              " 'B-Collaboration',\n",
              " 'B-ComputingFacility',\n",
              " 'B-Database',\n",
              " 'B-Dataset',\n",
              " 'B-EntityOfFutureInterest',\n",
              " 'B-Event',\n",
              " 'B-Fellowship',\n",
              " 'B-Formula',\n",
              " 'B-Grant',\n",
              " 'B-Identifier',\n",
              " 'B-Instrument',\n",
              " 'B-Location',\n",
              " 'B-Mission',\n",
              " 'B-Model',\n",
              " 'B-ObservationalTechniques',\n",
              " 'B-Observatory',\n",
              " 'B-Organization',\n",
              " 'B-Person',\n",
              " 'B-Proposal',\n",
              " 'B-Software',\n",
              " 'B-Survey',\n",
              " 'B-Tag',\n",
              " 'B-Telescope',\n",
              " 'B-TextGarbage',\n",
              " 'B-URL',\n",
              " 'B-Wavelength',\n",
              " 'I-Archive',\n",
              " 'I-CelestialObject',\n",
              " 'I-CelestialObjectRegion',\n",
              " 'I-CelestialRegion',\n",
              " 'I-Citation',\n",
              " 'I-Collaboration',\n",
              " 'I-ComputingFacility',\n",
              " 'I-Database',\n",
              " 'I-Dataset',\n",
              " 'I-EntityOfFutureInterest',\n",
              " 'I-Event',\n",
              " 'I-Fellowship',\n",
              " 'I-Formula',\n",
              " 'I-Grant',\n",
              " 'I-Identifier',\n",
              " 'I-Instrument',\n",
              " 'I-Location',\n",
              " 'I-Mission',\n",
              " 'I-Model',\n",
              " 'I-ObservationalTechniques',\n",
              " 'I-Observatory',\n",
              " 'I-Organization',\n",
              " 'I-Person',\n",
              " 'I-Proposal',\n",
              " 'I-Software',\n",
              " 'I-Survey',\n",
              " 'I-Tag',\n",
              " 'I-Telescope',\n",
              " 'I-TextGarbage',\n",
              " 'I-URL',\n",
              " 'I-Wavelength']"
            ]
          },
          "metadata": {},
          "execution_count": 15
        }
      ]
    },
    {
      "cell_type": "markdown",
      "source": [
        "5. **Обработка данных:**\n",
        "   Обычно данные передаются в модель для обучения. Для этого их нужно преобразовать в формат, принимаемый моделью. Например, если вы используете `transformers` для создания модели NER:"
      ],
      "metadata": {
        "id": "17crcZmzXhtb"
      }
    },
    {
      "cell_type": "code",
      "source": [
        "from transformers import AutoTokenizer\n",
        "\n",
        "tokenizer = AutoTokenizer.from_pretrained(\"your-model-name\")\n",
        "\n",
        "def tokenize_and_align_labels(examples):\n",
        "    tokenized_inputs = tokenizer(examples[\"tokens\"], truncation=True, is_split_into_words=True)\n",
        "    labels = []\n",
        "    for i, label in enumerate(examples[\"ner_tags\"]):\n",
        "        word_ids = tokenized_inputs.word_ids(batch_index=i)  # Получаем id токенов\n",
        "        label_ids = [-100] * len(tokenized_inputs[\"input_ids\"])  # По умолчанию -100\n",
        "        for j, word_id in enumerate(word_ids):\n",
        "            if word_id is not None:\n",
        "                label_ids[j] = label[word_id]  # Устанавливаем метку\n",
        "        labels.append(label_ids)\n",
        "    tokenized_inputs[\"labels\"] = labels\n",
        "    return tokenized_inputs\n",
        "\n",
        "tokenized_dataset = dataset[\"train\"].map(tokenize_and_align_labels, batched=True)"
      ],
      "metadata": {
        "id": "R3oh5fEXesad"
      },
      "execution_count": null,
      "outputs": []
    },
    {
      "cell_type": "markdown",
      "source": [
        "6. **Обучение модели:**\n",
        "   После токенизации и выравнивания меток вы можете использовать токенизированный набор данных для обучения модели NER."
      ],
      "metadata": {
        "id": "auHtfCttepK1"
      }
    },
    {
      "cell_type": "markdown",
      "source": [
        "## Раскраска именованных сущностей"
      ],
      "metadata": {
        "id": "ZsSTamMBfTmQ"
      }
    },
    {
      "cell_type": "markdown",
      "source": [
        "### 1. Установка необходимых библиотек\n",
        "Для начала убедитесь, что у вас установлены необходимые библиотеки:"
      ],
      "metadata": {
        "id": "29Jb2SNHfXEK"
      }
    },
    {
      "cell_type": "code",
      "source": [
        "!pip install datasets spacy"
      ],
      "metadata": {
        "colab": {
          "base_uri": "https://localhost:8080/"
        },
        "id": "BgG8mkCFfnu_",
        "outputId": "20c21463-6092-4df5-a7d8-47b5459dfd11"
      },
      "execution_count": null,
      "outputs": [
        {
          "output_type": "stream",
          "name": "stdout",
          "text": [
            "Requirement already satisfied: datasets in /usr/local/lib/python3.10/dist-packages (3.0.1)\n",
            "Requirement already satisfied: spacy in /usr/local/lib/python3.10/dist-packages (3.7.5)\n",
            "Requirement already satisfied: filelock in /usr/local/lib/python3.10/dist-packages (from datasets) (3.16.1)\n",
            "Requirement already satisfied: numpy>=1.17 in /usr/local/lib/python3.10/dist-packages (from datasets) (1.26.4)\n",
            "Requirement already satisfied: pyarrow>=15.0.0 in /usr/local/lib/python3.10/dist-packages (from datasets) (16.1.0)\n",
            "Requirement already satisfied: dill<0.3.9,>=0.3.0 in /usr/local/lib/python3.10/dist-packages (from datasets) (0.3.8)\n",
            "Requirement already satisfied: pandas in /usr/local/lib/python3.10/dist-packages (from datasets) (2.2.2)\n",
            "Requirement already satisfied: requests>=2.32.2 in /usr/local/lib/python3.10/dist-packages (from datasets) (2.32.3)\n",
            "Requirement already satisfied: tqdm>=4.66.3 in /usr/local/lib/python3.10/dist-packages (from datasets) (4.66.5)\n",
            "Requirement already satisfied: xxhash in /usr/local/lib/python3.10/dist-packages (from datasets) (3.5.0)\n",
            "Requirement already satisfied: multiprocess in /usr/local/lib/python3.10/dist-packages (from datasets) (0.70.16)\n",
            "Requirement already satisfied: fsspec<=2024.6.1,>=2023.1.0 in /usr/local/lib/python3.10/dist-packages (from fsspec[http]<=2024.6.1,>=2023.1.0->datasets) (2024.6.1)\n",
            "Requirement already satisfied: aiohttp in /usr/local/lib/python3.10/dist-packages (from datasets) (3.10.8)\n",
            "Requirement already satisfied: huggingface-hub>=0.22.0 in /usr/local/lib/python3.10/dist-packages (from datasets) (0.24.7)\n",
            "Requirement already satisfied: packaging in /usr/local/lib/python3.10/dist-packages (from datasets) (24.1)\n",
            "Requirement already satisfied: pyyaml>=5.1 in /usr/local/lib/python3.10/dist-packages (from datasets) (6.0.2)\n",
            "Requirement already satisfied: spacy-legacy<3.1.0,>=3.0.11 in /usr/local/lib/python3.10/dist-packages (from spacy) (3.0.12)\n",
            "Requirement already satisfied: spacy-loggers<2.0.0,>=1.0.0 in /usr/local/lib/python3.10/dist-packages (from spacy) (1.0.5)\n",
            "Requirement already satisfied: murmurhash<1.1.0,>=0.28.0 in /usr/local/lib/python3.10/dist-packages (from spacy) (1.0.10)\n",
            "Requirement already satisfied: cymem<2.1.0,>=2.0.2 in /usr/local/lib/python3.10/dist-packages (from spacy) (2.0.8)\n",
            "Requirement already satisfied: preshed<3.1.0,>=3.0.2 in /usr/local/lib/python3.10/dist-packages (from spacy) (3.0.9)\n",
            "Requirement already satisfied: thinc<8.3.0,>=8.2.2 in /usr/local/lib/python3.10/dist-packages (from spacy) (8.2.5)\n",
            "Requirement already satisfied: wasabi<1.2.0,>=0.9.1 in /usr/local/lib/python3.10/dist-packages (from spacy) (1.1.3)\n",
            "Requirement already satisfied: srsly<3.0.0,>=2.4.3 in /usr/local/lib/python3.10/dist-packages (from spacy) (2.4.8)\n",
            "Requirement already satisfied: catalogue<2.1.0,>=2.0.6 in /usr/local/lib/python3.10/dist-packages (from spacy) (2.0.10)\n",
            "Requirement already satisfied: weasel<0.5.0,>=0.1.0 in /usr/local/lib/python3.10/dist-packages (from spacy) (0.4.1)\n",
            "Requirement already satisfied: typer<1.0.0,>=0.3.0 in /usr/local/lib/python3.10/dist-packages (from spacy) (0.12.5)\n",
            "Requirement already satisfied: pydantic!=1.8,!=1.8.1,<3.0.0,>=1.7.4 in /usr/local/lib/python3.10/dist-packages (from spacy) (2.9.2)\n",
            "Requirement already satisfied: jinja2 in /usr/local/lib/python3.10/dist-packages (from spacy) (3.1.4)\n",
            "Requirement already satisfied: setuptools in /usr/local/lib/python3.10/dist-packages (from spacy) (71.0.4)\n",
            "Requirement already satisfied: langcodes<4.0.0,>=3.2.0 in /usr/local/lib/python3.10/dist-packages (from spacy) (3.4.1)\n",
            "Requirement already satisfied: aiohappyeyeballs>=2.3.0 in /usr/local/lib/python3.10/dist-packages (from aiohttp->datasets) (2.4.3)\n",
            "Requirement already satisfied: aiosignal>=1.1.2 in /usr/local/lib/python3.10/dist-packages (from aiohttp->datasets) (1.3.1)\n",
            "Requirement already satisfied: attrs>=17.3.0 in /usr/local/lib/python3.10/dist-packages (from aiohttp->datasets) (24.2.0)\n",
            "Requirement already satisfied: frozenlist>=1.1.1 in /usr/local/lib/python3.10/dist-packages (from aiohttp->datasets) (1.4.1)\n",
            "Requirement already satisfied: multidict<7.0,>=4.5 in /usr/local/lib/python3.10/dist-packages (from aiohttp->datasets) (6.1.0)\n",
            "Requirement already satisfied: yarl<2.0,>=1.12.0 in /usr/local/lib/python3.10/dist-packages (from aiohttp->datasets) (1.13.1)\n",
            "Requirement already satisfied: async-timeout<5.0,>=4.0 in /usr/local/lib/python3.10/dist-packages (from aiohttp->datasets) (4.0.3)\n",
            "Requirement already satisfied: typing-extensions>=3.7.4.3 in /usr/local/lib/python3.10/dist-packages (from huggingface-hub>=0.22.0->datasets) (4.12.2)\n",
            "Requirement already satisfied: language-data>=1.2 in /usr/local/lib/python3.10/dist-packages (from langcodes<4.0.0,>=3.2.0->spacy) (1.2.0)\n",
            "Requirement already satisfied: annotated-types>=0.6.0 in /usr/local/lib/python3.10/dist-packages (from pydantic!=1.8,!=1.8.1,<3.0.0,>=1.7.4->spacy) (0.7.0)\n",
            "Requirement already satisfied: pydantic-core==2.23.4 in /usr/local/lib/python3.10/dist-packages (from pydantic!=1.8,!=1.8.1,<3.0.0,>=1.7.4->spacy) (2.23.4)\n",
            "Requirement already satisfied: charset-normalizer<4,>=2 in /usr/local/lib/python3.10/dist-packages (from requests>=2.32.2->datasets) (3.3.2)\n",
            "Requirement already satisfied: idna<4,>=2.5 in /usr/local/lib/python3.10/dist-packages (from requests>=2.32.2->datasets) (3.10)\n",
            "Requirement already satisfied: urllib3<3,>=1.21.1 in /usr/local/lib/python3.10/dist-packages (from requests>=2.32.2->datasets) (2.2.3)\n",
            "Requirement already satisfied: certifi>=2017.4.17 in /usr/local/lib/python3.10/dist-packages (from requests>=2.32.2->datasets) (2024.8.30)\n",
            "Requirement already satisfied: blis<0.8.0,>=0.7.8 in /usr/local/lib/python3.10/dist-packages (from thinc<8.3.0,>=8.2.2->spacy) (0.7.11)\n",
            "Requirement already satisfied: confection<1.0.0,>=0.0.1 in /usr/local/lib/python3.10/dist-packages (from thinc<8.3.0,>=8.2.2->spacy) (0.1.5)\n",
            "Requirement already satisfied: click>=8.0.0 in /usr/local/lib/python3.10/dist-packages (from typer<1.0.0,>=0.3.0->spacy) (8.1.7)\n",
            "Requirement already satisfied: shellingham>=1.3.0 in /usr/local/lib/python3.10/dist-packages (from typer<1.0.0,>=0.3.0->spacy) (1.5.4)\n",
            "Requirement already satisfied: rich>=10.11.0 in /usr/local/lib/python3.10/dist-packages (from typer<1.0.0,>=0.3.0->spacy) (13.9.1)\n",
            "Requirement already satisfied: cloudpathlib<1.0.0,>=0.7.0 in /usr/local/lib/python3.10/dist-packages (from weasel<0.5.0,>=0.1.0->spacy) (0.19.0)\n",
            "Requirement already satisfied: smart-open<8.0.0,>=5.2.1 in /usr/local/lib/python3.10/dist-packages (from weasel<0.5.0,>=0.1.0->spacy) (7.0.4)\n",
            "Requirement already satisfied: MarkupSafe>=2.0 in /usr/local/lib/python3.10/dist-packages (from jinja2->spacy) (2.1.5)\n",
            "Requirement already satisfied: python-dateutil>=2.8.2 in /usr/local/lib/python3.10/dist-packages (from pandas->datasets) (2.8.2)\n",
            "Requirement already satisfied: pytz>=2020.1 in /usr/local/lib/python3.10/dist-packages (from pandas->datasets) (2024.2)\n",
            "Requirement already satisfied: tzdata>=2022.7 in /usr/local/lib/python3.10/dist-packages (from pandas->datasets) (2024.2)\n",
            "Requirement already satisfied: marisa-trie>=0.7.7 in /usr/local/lib/python3.10/dist-packages (from language-data>=1.2->langcodes<4.0.0,>=3.2.0->spacy) (1.2.0)\n",
            "Requirement already satisfied: six>=1.5 in /usr/local/lib/python3.10/dist-packages (from python-dateutil>=2.8.2->pandas->datasets) (1.16.0)\n",
            "Requirement already satisfied: markdown-it-py>=2.2.0 in /usr/local/lib/python3.10/dist-packages (from rich>=10.11.0->typer<1.0.0,>=0.3.0->spacy) (3.0.0)\n",
            "Requirement already satisfied: pygments<3.0.0,>=2.13.0 in /usr/local/lib/python3.10/dist-packages (from rich>=10.11.0->typer<1.0.0,>=0.3.0->spacy) (2.18.0)\n",
            "Requirement already satisfied: wrapt in /usr/local/lib/python3.10/dist-packages (from smart-open<8.0.0,>=5.2.1->weasel<0.5.0,>=0.1.0->spacy) (1.16.0)\n",
            "Requirement already satisfied: mdurl~=0.1 in /usr/local/lib/python3.10/dist-packages (from markdown-it-py>=2.2.0->rich>=10.11.0->typer<1.0.0,>=0.3.0->spacy) (0.1.2)\n"
          ]
        }
      ]
    },
    {
      "cell_type": "markdown",
      "source": [
        "### 2. Загрузка датасета и модели для NER\n",
        "Мы будем загружать датасет с Hugging Face и использовать предварительно обученную модель NER (например, из библиотеки `transformers`)."
      ],
      "metadata": {
        "id": "bT4LVtD4fkS-"
      }
    },
    {
      "cell_type": "code",
      "source": [
        "from datasets import load_dataset\n",
        "from spacy import displacy\n",
        "import spacy\n",
        "\n",
        "# Загружаем датасет\n",
        "dataset = load_dataset(\"adsabs/WIESP2022-NER\")\n",
        "\n",
        "# Возьмём первый пример из тренировочного набора\n",
        "example = dataset[\"train\"][0]\n",
        "\n",
        "# Пример токенов и тегов сущностей\n",
        "tokens = example[\"tokens\"]\n",
        "ner_tags = example[\"ner_tags\"]"
      ],
      "metadata": {
        "id": "IcTj0Ud5f0Yt"
      },
      "execution_count": null,
      "outputs": []
    },
    {
      "cell_type": "code",
      "source": [
        "ner_tags"
      ],
      "metadata": {
        "colab": {
          "base_uri": "https://localhost:8080/"
        },
        "id": "YL3GAaA1f5tl",
        "outputId": "da3252ff-e4d6-4baa-dd3b-80b2c813fc5a"
      },
      "execution_count": null,
      "outputs": [
        {
          "output_type": "execute_result",
          "data": {
            "text/plain": [
              "['O',\n",
              " 'O',\n",
              " 'O',\n",
              " 'O',\n",
              " 'O',\n",
              " 'O',\n",
              " 'O',\n",
              " 'B-Instrument',\n",
              " 'O',\n",
              " 'O',\n",
              " 'O',\n",
              " 'O',\n",
              " 'O',\n",
              " 'O',\n",
              " 'O',\n",
              " 'O',\n",
              " 'O',\n",
              " 'O',\n",
              " 'O',\n",
              " 'O',\n",
              " 'O',\n",
              " 'O',\n",
              " 'O',\n",
              " 'O',\n",
              " 'O',\n",
              " 'O',\n",
              " 'O',\n",
              " 'O',\n",
              " 'O',\n",
              " 'O',\n",
              " 'O',\n",
              " 'O',\n",
              " 'O',\n",
              " 'O',\n",
              " 'O',\n",
              " 'O',\n",
              " 'O',\n",
              " 'O',\n",
              " 'O',\n",
              " 'O',\n",
              " 'O',\n",
              " 'O',\n",
              " 'O',\n",
              " 'O',\n",
              " 'O',\n",
              " 'O',\n",
              " 'O',\n",
              " 'O',\n",
              " 'O',\n",
              " 'O',\n",
              " 'O',\n",
              " 'O',\n",
              " 'O',\n",
              " 'O',\n",
              " 'B-Mission',\n",
              " 'O',\n",
              " 'O',\n",
              " 'O',\n",
              " 'O',\n",
              " 'O',\n",
              " 'O',\n",
              " 'O',\n",
              " 'O',\n",
              " 'O',\n",
              " 'O',\n",
              " 'O',\n",
              " 'O',\n",
              " 'O',\n",
              " 'O',\n",
              " 'O',\n",
              " 'O',\n",
              " 'O',\n",
              " 'O',\n",
              " 'O',\n",
              " 'B-Instrument',\n",
              " 'O',\n",
              " 'B-Citation',\n",
              " 'I-Citation',\n",
              " 'I-Citation',\n",
              " 'I-Citation',\n",
              " 'I-Citation',\n",
              " 'I-Citation',\n",
              " 'O',\n",
              " 'O',\n",
              " 'O',\n",
              " 'O',\n",
              " 'B-Citation',\n",
              " 'I-Citation',\n",
              " 'I-Citation',\n",
              " 'I-Citation',\n",
              " 'I-Citation',\n",
              " 'I-Citation',\n",
              " 'I-Citation',\n",
              " 'O',\n",
              " 'B-Citation',\n",
              " 'I-Citation',\n",
              " 'I-Citation',\n",
              " 'I-Citation',\n",
              " 'I-Citation',\n",
              " 'I-Citation',\n",
              " 'I-Citation',\n",
              " 'O',\n",
              " 'O',\n",
              " 'O',\n",
              " 'O',\n",
              " 'O',\n",
              " 'O',\n",
              " 'O',\n",
              " 'O',\n",
              " 'O',\n",
              " 'O',\n",
              " 'O',\n",
              " 'O',\n",
              " 'O',\n",
              " 'O',\n",
              " 'B-Instrument',\n",
              " 'O',\n",
              " 'O',\n",
              " 'O',\n",
              " 'O',\n",
              " 'O',\n",
              " 'O',\n",
              " 'O',\n",
              " 'O',\n",
              " 'O',\n",
              " 'O',\n",
              " 'O',\n",
              " 'O',\n",
              " 'O',\n",
              " 'O',\n",
              " 'B-Mission',\n",
              " 'B-Instrument',\n",
              " 'B-Telescope',\n",
              " 'O',\n",
              " 'B-Wavelength',\n",
              " 'I-Wavelength',\n",
              " 'O',\n",
              " 'O',\n",
              " 'B-Wavelength',\n",
              " 'I-Wavelength',\n",
              " 'O',\n",
              " 'O',\n",
              " 'O',\n",
              " 'B-Citation',\n",
              " 'I-Citation',\n",
              " 'I-Citation',\n",
              " 'I-Citation',\n",
              " 'I-Citation',\n",
              " 'I-Citation',\n",
              " 'I-Citation',\n",
              " 'B-Citation',\n",
              " 'I-Citation',\n",
              " 'I-Citation',\n",
              " 'I-Citation',\n",
              " 'I-Citation',\n",
              " 'I-Citation',\n",
              " 'I-Citation',\n",
              " 'O',\n",
              " 'B-Citation',\n",
              " 'I-Citation',\n",
              " 'I-Citation',\n",
              " 'I-Citation',\n",
              " 'I-Citation',\n",
              " 'I-Citation',\n",
              " 'O',\n",
              " 'O',\n",
              " 'O',\n",
              " 'B-Mission',\n",
              " 'O',\n",
              " 'B-Instrument',\n",
              " 'O',\n",
              " 'O',\n",
              " 'O',\n",
              " 'O',\n",
              " 'O',\n",
              " 'O',\n",
              " 'O',\n",
              " 'O',\n",
              " 'O',\n",
              " 'O',\n",
              " 'O',\n",
              " 'O',\n",
              " 'O',\n",
              " 'O',\n",
              " 'O',\n",
              " 'O',\n",
              " 'O',\n",
              " 'O',\n",
              " 'O',\n",
              " 'O',\n",
              " 'O',\n",
              " 'O',\n",
              " 'O',\n",
              " 'O',\n",
              " 'O',\n",
              " 'O',\n",
              " 'O',\n",
              " 'O',\n",
              " 'O',\n",
              " 'O',\n",
              " 'O',\n",
              " 'O',\n",
              " 'O',\n",
              " 'O',\n",
              " 'O',\n",
              " 'O',\n",
              " 'O',\n",
              " 'O',\n",
              " 'O',\n",
              " 'O',\n",
              " 'O',\n",
              " 'O',\n",
              " 'O',\n",
              " 'O',\n",
              " 'O',\n",
              " 'O',\n",
              " 'O',\n",
              " 'O',\n",
              " 'O',\n",
              " 'O',\n",
              " 'O',\n",
              " 'O',\n",
              " 'O',\n",
              " 'O',\n",
              " 'O',\n",
              " 'O',\n",
              " 'O',\n",
              " 'O',\n",
              " 'O',\n",
              " 'O',\n",
              " 'O',\n",
              " 'O',\n",
              " 'O',\n",
              " 'O',\n",
              " 'O',\n",
              " 'O',\n",
              " 'B-Citation',\n",
              " 'I-Citation',\n",
              " 'I-Citation',\n",
              " 'I-Citation',\n",
              " 'I-Citation',\n",
              " 'I-Citation',\n",
              " 'O',\n",
              " 'B-Citation',\n",
              " 'I-Citation',\n",
              " 'I-Citation',\n",
              " 'I-Citation',\n",
              " 'I-Citation',\n",
              " 'O',\n",
              " 'O',\n",
              " 'O',\n",
              " 'O',\n",
              " 'O',\n",
              " 'O',\n",
              " 'O',\n",
              " 'O',\n",
              " 'O',\n",
              " 'O',\n",
              " 'O',\n",
              " 'O',\n",
              " 'O',\n",
              " 'O',\n",
              " 'B-Citation',\n",
              " 'I-Citation',\n",
              " 'I-Citation',\n",
              " 'O',\n",
              " 'O',\n",
              " 'O',\n",
              " 'O',\n",
              " 'O',\n",
              " 'O',\n",
              " 'O',\n",
              " 'O',\n",
              " 'O',\n",
              " 'O',\n",
              " 'O',\n",
              " 'O',\n",
              " 'O',\n",
              " 'O',\n",
              " 'O',\n",
              " 'O',\n",
              " 'O',\n",
              " 'O',\n",
              " 'O',\n",
              " 'O',\n",
              " 'O',\n",
              " 'O',\n",
              " 'O',\n",
              " 'O',\n",
              " 'O',\n",
              " 'O',\n",
              " 'O',\n",
              " 'O',\n",
              " 'O',\n",
              " 'O',\n",
              " 'O',\n",
              " 'O',\n",
              " 'O',\n",
              " 'O',\n",
              " 'O',\n",
              " 'O',\n",
              " 'O',\n",
              " 'O',\n",
              " 'O',\n",
              " 'O',\n",
              " 'O',\n",
              " 'O',\n",
              " 'O',\n",
              " 'O',\n",
              " 'O',\n",
              " 'O',\n",
              " 'O',\n",
              " 'B-Model',\n",
              " 'I-Model',\n",
              " 'B-Citation',\n",
              " 'I-Citation',\n",
              " 'O',\n",
              " 'B-Citation',\n",
              " 'I-Citation',\n",
              " 'O',\n",
              " 'O',\n",
              " 'O',\n",
              " 'O',\n",
              " 'B-Software',\n",
              " 'O',\n",
              " 'B-Software',\n",
              " 'I-Software',\n",
              " 'O',\n",
              " 'O',\n",
              " 'B-Software',\n",
              " 'O',\n",
              " 'B-Citation',\n",
              " 'I-Citation',\n",
              " 'I-Citation',\n",
              " 'O',\n",
              " 'O',\n",
              " 'O',\n",
              " 'O',\n",
              " 'O',\n",
              " 'O',\n",
              " 'O',\n",
              " 'O',\n",
              " 'O',\n",
              " 'O',\n",
              " 'O',\n",
              " 'B-Citation',\n",
              " 'I-Citation',\n",
              " 'I-Citation',\n",
              " 'I-Citation',\n",
              " 'I-Citation',\n",
              " 'I-Citation',\n",
              " 'O',\n",
              " 'O',\n",
              " 'O',\n",
              " 'O',\n",
              " 'O',\n",
              " 'O',\n",
              " 'O',\n",
              " 'O',\n",
              " 'B-Citation',\n",
              " 'I-Citation',\n",
              " 'I-Citation',\n",
              " 'I-Citation',\n",
              " 'O',\n",
              " 'O',\n",
              " 'B-Instrument',\n",
              " 'O',\n",
              " 'O',\n",
              " 'O',\n",
              " 'O',\n",
              " 'B-Formula',\n",
              " 'I-Formula',\n",
              " 'I-Formula',\n",
              " 'I-Formula',\n",
              " 'I-Formula',\n",
              " 'O',\n",
              " 'O',\n",
              " 'O',\n",
              " 'O',\n",
              " 'O',\n",
              " 'B-Mission',\n",
              " 'O',\n",
              " 'B-Citation',\n",
              " 'I-Citation',\n",
              " 'I-Citation',\n",
              " 'I-Citation',\n",
              " 'O',\n",
              " 'O',\n",
              " 'O',\n",
              " 'O',\n",
              " 'O',\n",
              " 'O',\n",
              " 'O',\n",
              " 'O',\n",
              " 'O',\n",
              " 'O',\n",
              " 'O',\n",
              " 'O',\n",
              " 'O',\n",
              " 'O',\n",
              " 'O',\n",
              " 'O',\n",
              " 'O',\n",
              " 'O',\n",
              " 'O',\n",
              " 'O',\n",
              " 'B-Citation',\n",
              " 'I-Citation',\n",
              " 'I-Citation',\n",
              " 'I-Citation',\n",
              " 'O',\n",
              " 'O',\n",
              " 'O',\n",
              " 'O',\n",
              " 'O',\n",
              " 'O',\n",
              " 'O',\n",
              " 'O',\n",
              " 'O',\n",
              " 'O',\n",
              " 'O',\n",
              " 'O',\n",
              " 'O',\n",
              " 'O',\n",
              " 'O',\n",
              " 'O',\n",
              " 'O',\n",
              " 'O',\n",
              " 'O',\n",
              " 'O',\n",
              " 'O',\n",
              " 'O',\n",
              " 'O',\n",
              " 'O',\n",
              " 'O',\n",
              " 'O',\n",
              " 'O',\n",
              " 'O',\n",
              " 'O',\n",
              " 'O',\n",
              " 'O',\n",
              " 'O',\n",
              " 'O',\n",
              " 'O',\n",
              " 'B-Instrument',\n",
              " 'O',\n",
              " 'O',\n",
              " 'O',\n",
              " 'O',\n",
              " 'O',\n",
              " 'O',\n",
              " 'O',\n",
              " 'O',\n",
              " 'B-Formula',\n",
              " 'I-Formula',\n",
              " 'I-Formula',\n",
              " 'I-Formula',\n",
              " 'O',\n",
              " 'O',\n",
              " 'O',\n",
              " 'O',\n",
              " 'O',\n",
              " 'O',\n",
              " 'O',\n",
              " 'O',\n",
              " 'O',\n",
              " 'O',\n",
              " 'O',\n",
              " 'O',\n",
              " 'O',\n",
              " 'O',\n",
              " 'O',\n",
              " 'O',\n",
              " 'O',\n",
              " 'O',\n",
              " 'O',\n",
              " 'O',\n",
              " 'O',\n",
              " 'O',\n",
              " 'O',\n",
              " 'O',\n",
              " 'O',\n",
              " 'O',\n",
              " 'O',\n",
              " 'B-Instrument',\n",
              " 'O',\n",
              " 'O',\n",
              " 'O',\n",
              " 'O',\n",
              " 'O',\n",
              " 'O',\n",
              " 'O',\n",
              " 'O',\n",
              " 'O',\n",
              " 'O',\n",
              " 'O',\n",
              " 'O',\n",
              " 'O',\n",
              " 'O',\n",
              " 'O',\n",
              " 'O',\n",
              " 'O',\n",
              " 'O',\n",
              " 'O',\n",
              " 'O',\n",
              " 'O',\n",
              " 'O',\n",
              " 'O',\n",
              " 'O',\n",
              " 'O',\n",
              " 'O',\n",
              " 'O',\n",
              " 'O',\n",
              " 'O',\n",
              " 'O',\n",
              " 'O',\n",
              " 'O',\n",
              " 'O',\n",
              " 'O',\n",
              " 'O',\n",
              " 'O',\n",
              " 'O',\n",
              " 'O',\n",
              " 'O',\n",
              " 'O',\n",
              " 'O',\n",
              " 'O',\n",
              " 'O',\n",
              " 'O',\n",
              " 'O',\n",
              " 'O',\n",
              " 'O',\n",
              " 'O',\n",
              " 'O',\n",
              " 'O',\n",
              " 'O']"
            ]
          },
          "metadata": {},
          "execution_count": 19
        }
      ]
    },
    {
      "cell_type": "markdown",
      "source": [
        "## 3. Подготовка именованных сущностей для визуализации\n",
        "Теперь нам нужно преобразовать метки сущностей в формат, понятный библиотеке `spacy`, для визуализации через `displacy`."
      ],
      "metadata": {
        "id": "dGsIv4a2fwiq"
      }
    },
    {
      "cell_type": "code",
      "source": [
        "labels = set(ner_tags)"
      ],
      "metadata": {
        "id": "BEAuhCxogbhR"
      },
      "execution_count": null,
      "outputs": []
    },
    {
      "cell_type": "code",
      "source": [
        "# Обрабатываем токены и создаём список сущностей\n",
        "entities = []\n",
        "current_entity = None\n",
        "for i, label in enumerate(labels):\n",
        "    if label.startswith(\"B-\"):  # Начало новой сущности\n",
        "        if current_entity:\n",
        "            entities.append(current_entity)\n",
        "        current_entity = {\"start\": i, \"end\": i + 1, \"label\": label[2:]}\n",
        "    elif label.startswith(\"I-\") and current_entity:  # Продолжение сущности\n",
        "        current_entity[\"end\"] = i + 1\n",
        "    else:\n",
        "        if current_entity:\n",
        "            entities.append(current_entity)\n",
        "            current_entity = None\n",
        "\n",
        "# Добавляем последнюю сущность, если она есть\n",
        "if current_entity:\n",
        "    entities.append(current_entity)\n",
        "\n",
        "# Создаём строку текста для визуализации\n",
        "text = \" \".join(tokens)\n",
        "\n",
        "# Готовим данные для визуализации через displacy\n",
        "doc = {\n",
        "    \"text\": text,\n",
        "    \"ents\": [{\"start\": len(\" \".join(tokens[:entity[\"start\"]])),\n",
        "              \"end\": len(\" \".join(tokens[:entity[\"end\"]])),\n",
        "              \"label\": entity[\"label\"]} for entity in entities],\n",
        "    \"title\": None\n",
        "}\n",
        "\n",
        "# Используем displacy для визуализации\n",
        "displacy.render(doc, style=\"ent\", manual=True)"
      ],
      "metadata": {
        "colab": {
          "base_uri": "https://localhost:8080/",
          "height": 507
        },
        "id": "24JSV-JFgJhK",
        "outputId": "27b3f7ee-0c4c-4ef1-c423-d17a911cc17e"
      },
      "execution_count": null,
      "outputs": [
        {
          "output_type": "display_data",
          "data": {
            "text/plain": [
              "<IPython.core.display.HTML object>"
            ],
            "text/html": [
              "<span class=\"tex2jax_ignore\"><div class=\"entities\" style=\"line-height: 2.5; direction: ltr\">\n",
              "<mark class=\"entity\" style=\"background: #ddd; padding: 0.45em 0.6em; margin: 0 0.25em; line-height: 1; border-radius: 0.35em;\">\n",
              "    Whilst\n",
              "    <span style=\"font-size: 0.8em; font-weight: bold; line-height: 1; border-radius: 0.35em; vertical-align: middle; margin-left: 0.5rem\">Mission</span>\n",
              "</mark>\n",
              " a\n",
              "<mark class=\"entity\" style=\"background: #ddd; padding: 0.45em 0.6em; margin: 0 0.25em; line-height: 1; border-radius: 0.35em;\">\n",
              "     reasonable harmonic fit\n",
              "    <span style=\"font-size: 0.8em; font-weight: bold; line-height: 1; border-radius: 0.35em; vertical-align: middle; margin-left: 0.5rem\">Wavelength</span>\n",
              "</mark>\n",
              "\n",
              "<mark class=\"entity\" style=\"background: #ddd; padding: 0.45em 0.6em; margin: 0 0.25em; line-height: 1; border-radius: 0.35em;\">\n",
              "     to the ESPaDOnS\n",
              "    <span style=\"font-size: 0.8em; font-weight: bold; line-height: 1; border-radius: 0.35em; vertical-align: middle; margin-left: 0.5rem\">Citation</span>\n",
              "</mark>\n",
              "\n",
              "<mark class=\"entity\" style=\"background: #ddd; padding: 0.45em 0.6em; margin: 0 0.25em; line-height: 1; border-radius: 0.35em;\">\n",
              "     data\n",
              "    <span style=\"font-size: 0.8em; font-weight: bold; line-height: 1; border-radius: 0.35em; vertical-align: middle; margin-left: 0.5rem\">Instrument</span>\n",
              "</mark>\n",
              "\n",
              "<mark class=\"entity\" style=\"background: #ddd; padding: 0.45em 0.6em; margin: 0 0.25em; line-height: 1; border-radius: 0.35em;\">\n",
              "     can\n",
              "    <span style=\"font-size: 0.8em; font-weight: bold; line-height: 1; border-radius: 0.35em; vertical-align: middle; margin-left: 0.5rem\">Model</span>\n",
              "</mark>\n",
              "\n",
              "<mark class=\"entity\" style=\"background: #ddd; padding: 0.45em 0.6em; margin: 0 0.25em; line-height: 1; border-radius: 0.35em;\">\n",
              "     be\n",
              "    <span style=\"font-size: 0.8em; font-weight: bold; line-height: 1; border-radius: 0.35em; vertical-align: middle; margin-left: 0.5rem\">Formula</span>\n",
              "</mark>\n",
              "\n",
              "<mark class=\"entity\" style=\"background: #ddd; padding: 0.45em 0.6em; margin: 0 0.25em; line-height: 1; border-radius: 0.35em;\">\n",
              "     achieved using\n",
              "    <span style=\"font-size: 0.8em; font-weight: bold; line-height: 1; border-radius: 0.35em; vertical-align: middle; margin-left: 0.5rem\">Telescope</span>\n",
              "</mark>\n",
              "\n",
              "<mark class=\"entity\" style=\"background: #ddd; padding: 0.45em 0.6em; margin: 0 0.25em; line-height: 1; border-radius: 0.35em;\">\n",
              "     this\n",
              "    <span style=\"font-size: 0.8em; font-weight: bold; line-height: 1; border-radius: 0.35em; vertical-align: middle; margin-left: 0.5rem\">Software</span>\n",
              "</mark>\n",
              " period, it does not produce an acceptable phasing of all available 〈 B z 〉 measurements. Figure 1. Photometric ( top ) and magnetic 〈 B z 〉 ( bottom ) measurements, phased with periods determined from (left to right) K2 photometry, all 〈 B z 〉 measurements, and all photometric measurements. 〈 B z 〉 measurements were obtained from ESPaDOnS by Shultz et al. ( 2018 ) and photopolarimetric data by Borra et al. ( 1983 , BLT83) and Bohlender et al. ( 1993 , BLT93). The solid and dashed curves show, respectively, the best second-order harmonic fit to the ESPaDOnS 〈 B z 〉 data and the 1σ fit uncertainty. Photometric data are from K2, SMEI, Hipparcos ( H p ), and Strömgren y photometry published by Sterken et al. ( 1995 , S95), Manfroid et al. ( 1995 , M95), and Pedersen Thomsen ( 1977 , P77). For clarity the K2 and SMEI data have been binned by phase, using bin sizes of 0.01 cycles. The mean magnitude of each data set was subtracted for display purposes. All of the periods obtained since the year 2000 are approximately consistent with one another; the two periods determined using photometric data obtained prior to the year 2000 are also consistent with one another. At the same time, the difference between the Bowman et al. ( 2018 ) and Catalano Leone ( 1996 ) periods, 0.00015 d, is almost eight times larger than the formal uncertainty in the Bowman et al. period (the less precise of the two). This suggests that the period may have changed. 3.2 Period analysis We now turn to a re-examination of the period analysis of the individual data sets; the results are summarized in Table 2 . Period analysis was performed using standard Lomb–Scargle statistics (Lomb 1976 ; Scargle 1982 ), utilizing both the idl program periodogram 4 and the period04 package (Lenz Breger 2005 ). The uncertainties were determined in the same manner as by Shultz et al. ( 2018 ), i.e. according to the analytic method described by Bloomfield ( 1976 ). Examining the ESPaDOnS data in isolation yields P rot = 0.97887(6) d, consistent within uncertainty with the K2 period (Bowman et al. 2018 ). The period determined from all available magnetic data (i.e. including the previously overlooked 〈 B z 〉 measurements of Borra et al. 1983 ) is 0.979855(5) d. The photometric and magnetic data are shown phased with this period in the middle panel of Fig. 1 . Phasing 〈 B z 〉 with this period and fitting the ESPaDOnS data with a second-order sinusoid yields a reduced χ 2 = 5, i.e. a poor fit. This period also does not provide a coherent phasing of the majority of the photometric data set. Notably, the variation in the phase-binned SMEI data almost completely disappears, likely because observations are being binned as though they were at the same phase when, in fact, they are not. We can also combine all available photometric data (shifted to the mean magnitude of each data set, as in Fig. 1 ), which yields P rot =</div></span>"
            ]
          },
          "metadata": {}
        }
      ]
    },
    {
      "cell_type": "markdown",
      "source": [
        "## mcolors"
      ],
      "metadata": {
        "id": "nWNrOwMpk-Mz"
      }
    },
    {
      "cell_type": "markdown",
      "source": [
        "`matplotlib.colors` — это модуль из библиотеки `Matplotlib`, который предоставляет функции и классы для работы с цветами. Он особенно полезен при визуализации данных, когда требуется настроить цвета графиков, диаграмм или других визуальных элементов. Библиотека позволяет как выбирать стандартные цвета, так и создавать собственные цветовые схемы."
      ],
      "metadata": {
        "id": "KzDpPRmVlBN3"
      }
    },
    {
      "cell_type": "markdown",
      "source": [
        "### Основные возможности и функции:\n",
        "1. **Колор-кодирование (Color codes)**:\n",
        "   Библиотека поддерживает несколько типов цветовых форматов, включая:\n",
        "   - Именованные цвета (например, `'red'`, `'blue'`, `'green'`)\n",
        "   - Шестнадцатеричные цвета (например, `#FF5733`)\n",
        "   - Цвета в формате RGB (например, `(1, 0, 0)` для красного)\n",
        "   - HLS и HSV (тон-насыщенность-светлота) и другие модели.\n",
        "\n",
        "2. **`mcolors.to_rgb()`**:\n",
        "   Эта функция преобразует цвет в формате, поддерживаемом `Matplotlib`, в кортеж RGB (Red, Green, Blue).\n",
        "\n",
        "3. **`mcolors.to_hex()`**:\n",
        "   Преобразует цвет, представленный как RGB или в других форматах, в шестнадцатеричный код.\n",
        "\n",
        "4. **Colormap**:\n",
        "   `matplotlib.colors` работает с цветовыми картами (colormaps), которые представляют собой градиенты для окрашивания данных в зависимости от их значений.\n",
        "\n",
        "5. **Normalizing**:\n",
        "   Функции для нормализации значений данных, что позволяет использовать цветовые шкалы более эффективно."
      ],
      "metadata": {
        "id": "wWJz-yM4lF29"
      }
    },
    {
      "cell_type": "markdown",
      "source": [
        "### Примеры использования:\n",
        "\n",
        "#### Пример 1: Преобразование цветовых форматов"
      ],
      "metadata": {
        "id": "IVCSh5aRlKJu"
      }
    },
    {
      "cell_type": "code",
      "source": [
        "import matplotlib.colors as mcolors\n",
        "\n",
        "# Преобразуем именованный цвет в RGB\n",
        "rgb_color = mcolors.to_rgb('blue')\n",
        "print(\"RGB для 'blue':\", rgb_color)\n",
        "\n",
        "# Преобразуем цвет в шестнадцатеричный формат\n",
        "hex_color = mcolors.to_hex(rgb_color)\n",
        "print(\"Шестнадцатеричный код для 'blue':\", hex_color)"
      ],
      "metadata": {
        "id": "7Vsjv0VglS--",
        "colab": {
          "base_uri": "https://localhost:8080/"
        },
        "outputId": "b73e1c4f-b92e-4689-baad-29f199a51619"
      },
      "execution_count": 1,
      "outputs": [
        {
          "output_type": "stream",
          "name": "stdout",
          "text": [
            "RGB для 'blue': (0.0, 0.0, 1.0)\n",
            "Шестнадцатеричный код для 'blue': #0000ff\n"
          ]
        }
      ]
    },
    {
      "cell_type": "markdown",
      "source": [
        "#### Пример 2: Настройка цветовой схемы для графика"
      ],
      "metadata": {
        "id": "mVZikuAYlOF2"
      }
    },
    {
      "cell_type": "code",
      "execution_count": 2,
      "metadata": {
        "id": "nA_nZNmbJMvl",
        "colab": {
          "base_uri": "https://localhost:8080/",
          "height": 430
        },
        "outputId": "84ba2a4e-b5f6-4b95-96de-2d43885ca74a"
      },
      "outputs": [
        {
          "output_type": "display_data",
          "data": {
            "text/plain": [
              "<Figure size 640x480 with 2 Axes>"
            ],
            "image/png": "[encoded data removed]"
          },
          "metadata": {}
        }
      ],
      "source": [
        "import matplotlib.pyplot as plt\n",
        "import numpy as np\n",
        "import matplotlib.colors as mcolors\n",
        "\n",
        "# Данные для графика\n",
        "x = np.linspace(0, 10, 100)\n",
        "y = np.sin(x)\n",
        "\n",
        "# Создадим кастомную цветовую схему\n",
        "custom_colors = ['#FF5733', '#33FF57', '#3357FF']\n",
        "cmap = mcolors.ListedColormap(custom_colors)\n",
        "\n",
        "# Построим график с кастомной цветовой картой\n",
        "plt.scatter(x, y, c=y, cmap=cmap)\n",
        "plt.colorbar()  # Добавляем шкалу цветов\n",
        "plt.show()"
      ]
    },
    {
      "cell_type": "markdown",
      "source": [
        "#### Пример 3: Использование нормализации"
      ],
      "metadata": {
        "id": "IMBSwTrslegQ"
      }
    },
    {
      "cell_type": "code",
      "source": [
        "import matplotlib.pyplot as plt\n",
        "import numpy as np\n",
        "import matplotlib.colors as mcolors\n",
        "\n",
        "# Данные для графика\n",
        "x = np.random.rand(100)\n",
        "y = np.random.rand(100)\n",
        "colors = np.random.rand(100) * 1000  # Цвета, зависящие от значений\n",
        "\n",
        "# Нормализация данных в диапазоне [0, 1]\n",
        "norm = mcolors.Normalize(vmin=0, vmax=1000)\n",
        "\n",
        "# Построение графика с нормализованными цветами\n",
        "plt.scatter(x, y, c=colors, cmap='viridis', norm=norm)\n",
        "plt.colorbar()\n",
        "plt.show()"
      ],
      "metadata": {
        "id": "10gjnBhAljmQ",
        "colab": {
          "base_uri": "https://localhost:8080/",
          "height": 435
        },
        "outputId": "894ed3dc-688d-4a66-c3a7-4f9983745060"
      },
      "execution_count": 3,
      "outputs": [
        {
          "output_type": "display_data",
          "data": {
            "text/plain": [
              "<Figure size 640x480 with 2 Axes>"
            ],
            "image/png": "[encoded data removed]"
          },
          "metadata": {}
        }
      ]
    },
    {
      "cell_type": "markdown",
      "source": [
        "## Превращение токенизированного текста обратно в нормальный"
      ],
      "metadata": {
        "id": "3iCuJMzXnwu4"
      }
    },
    {
      "cell_type": "markdown",
      "source": [
        "`TreebankWordDetokenizer` из библиотеки NLTK (Natural Language Toolkit) используется для детокенизации текстов, то есть для преобразования списка токенов обратно в полноценный текст. Это особенно полезно после обработки текста, где его разбивают на токены (например, слова или знаки препинания), и затем необходимо восстановить оригинальный текст.\n",
        "\n",
        "### Основные функции\n",
        "\n",
        "- **Детокенизация**: `TreebankWordDetokenizer` может объединить токены в одно целое, правильно расставляя пробелы и знаки препинания.\n",
        "- **Поддержка формата Treebank**: Этот детокенизатор учитывает специфические правила, применяемые в корпусах, таких как Penn Treebank, что позволяет более точно восстанавливать исходный текст.\n",
        "\n",
        "### Пример использования\n",
        "\n",
        "1. **Установка NLTK**:\n",
        "   Убедитесь, что у вас установлена библиотека NLTK. Если нет, вы можете установить ее с помощью pip:"
      ],
      "metadata": {
        "id": "fWS42lIbnsAJ"
      }
    },
    {
      "cell_type": "code",
      "source": [
        "!pip install nltk"
      ],
      "metadata": {
        "id": "oZLwphFQn-y-"
      },
      "execution_count": null,
      "outputs": []
    },
    {
      "cell_type": "markdown",
      "source": [
        "\n",
        "2. **Импорт и использование `TreebankWordDetokenizer`**:"
      ],
      "metadata": {
        "id": "Hy_AF64Bn7eK"
      }
    },
    {
      "cell_type": "code",
      "source": [
        "from nltk.tokenize.treebank import TreebankWordDetokenizer\n",
        "\n",
        "# Создаем экземпляр детокенизатора\n",
        "detokenizer = TreebankWordDetokenizer()\n",
        "\n",
        "# Пример списка токенов\n",
        "tokens = ['Hello', ',', 'how', 'are', 'you', '?']\n",
        "\n",
        "# Детокенизация\n",
        "detokenized_text = detokenizer.detokenize(tokens)\n",
        "\n",
        "print(\"Детокенизированный текст:\", detokenized_text)"
      ],
      "metadata": {
        "id": "6nP6MACpoJ1p"
      },
      "execution_count": null,
      "outputs": []
    },
    {
      "cell_type": "markdown",
      "source": [
        "### Примечания\n",
        "\n",
        "- `TreebankWordDetokenizer` использует специфические правила для обработки пробелов и знаков препинания, что делает его подходящим для текстов, где требуется соблюдение грамматических норм.\n",
        "- Использование этого инструмента может быть полезно в различных приложениях обработки естественного языка (NLP), таких как анализ текстов, чат-боты и системы автоматического перевода, где необходимо восстановить изначальный текст после его анализа или обработки.\n",
        "\n",
        "### Альтернативные методы\n",
        "\n",
        "Если вам нужно работать с токенами, которые не следуют строгим правилам Treebank, NLTK предлагает и другие методы детокенизации, такие как `nltk.tokenize.detokenize` (не путать с `TreebankWordDetokenizer`), но `TreebankWordDetokenizer` считается более точным для текстов, соответствующих стандартам Penn Treebank."
      ],
      "metadata": {
        "id": "3hCwHRRUoFON"
      }
    },
    {
      "cell_type": "markdown",
      "source": [
        "## Стандарт Penn Treebank"
      ],
      "metadata": {
        "id": "uUMCfMOco_nt"
      }
    },
    {
      "cell_type": "markdown",
      "source": [
        "**Penn Treebank** — это широко известный корпус текстов (датасет), используемый для обработки естественного языка (NLP). Его полный формат называется **The Penn Treebank Project**, и он был создан на базе текстов, вручную размеченных синтаксическими структурами и грамматическими правилами. Корпус включает как различные виды текстов (статьи, новости и др.), так и лингвистическую аннотацию в виде деревьев зависимостей, что делает его полезным для задач синтаксического анализа и машинного обучения."
      ],
      "metadata": {
        "id": "_8GLDXcPo9vL"
      }
    },
    {
      "cell_type": "markdown",
      "source": [
        "\n",
        "### Основные характеристики Penn Treebank:\n",
        "\n",
        "1. **Ручная разметка**: В корпусе Penn Treebank текстовые данные разметили вручную, что включает:\n",
        "   - Синтаксические деревья (деревья зависимостей), которые иллюстрируют грамматическую структуру предложений.\n",
        "   - Часть речи (POS-тэги) для каждого слова в предложениях.\n",
        "   - Метаинформацию, касающуюся семантики и синтаксиса предложений.\n",
        "\n",
        "2. **Часть корпуса**:\n",
        "   - **WSJ (Wall Street Journal)**: Основной компонент Penn Treebank состоит из 1 миллиона слов, взятых из статей Wall Street Journal. Это помогает обучать модели на текстах высокого качества и формальной структуры.\n",
        "   - Другие части включают диалоги и разговорные тексты, что делает его полезным для различных задач обработки текста.\n",
        "\n",
        "3. **Общие задачи**:\n",
        "   - Используется для обучения и тестирования моделей синтаксического анализа (парсинг предложений).\n",
        "   - Применяется для разработки моделей определения частей речи (POS-теггеры).\n",
        "   - Широко используется в задачах, связанных с пониманием текста, извлечением информации и генерацией текста."
      ],
      "metadata": {
        "id": "-TzzeFQOpHQ1"
      }
    },
    {
      "cell_type": "markdown",
      "source": [
        "### Формат токенизации в Penn Treebank\n",
        "\n",
        "**Токенизация** в Penn Treebank — это процесс разбиения текста на составляющие элементы (токены), такие как слова, знаки препинания и прочие символы. Токенизация основана на следующих принципах:\n",
        "- **Знаки препинания отделены от слов**: Например, \"Hello, world!\" будет токенизироваться как `['Hello', ',', 'world', '!']`.\n",
        "- **Специфические правила для сокращений и апострофов**: Например, \"don't\" будет токенизироваться как `[\"do\", \"n't\"]`, а не как одно слово.\n",
        "\n",
        "Эти правила делают токенизацию в Penn Treebank особенно строгой и стандартизированной, что облегчает работу с текстами в задаче анализа синтаксических структур и машинного перевода."
      ],
      "metadata": {
        "id": "MddxnAWopKPJ"
      }
    },
    {
      "cell_type": "markdown",
      "source": [
        "### Пример разметки в Penn Treebank:\n",
        "\n",
        "Допустим, у нас есть предложение: **\"The quick brown fox jumps over the lazy dog.\"**\n",
        "\n",
        "- Токенизация будет: `['The', 'quick', 'brown', 'fox', 'jumps', 'over', 'the', 'lazy', 'dog', '.']`\n",
        "- POS-теги (части речи): `['DT', 'JJ', 'JJ', 'NN', 'VBZ', 'IN', 'DT', 'JJ', 'NN', '.']`\n",
        "  - **DT** (determiner) — артикль\n",
        "  - **JJ** (adjective) — прилагательное\n",
        "  - **NN** (noun) — существительное\n",
        "  - **VBZ** (verb, 3rd person singular present) — глагол в форме настоящего времени для 3-го лица\n",
        "  - **IN** (preposition) — предлог\n",
        "  - **.** — точка"
      ],
      "metadata": {
        "id": "i2NiDdK6pM5X"
      }
    },
    {
      "cell_type": "markdown",
      "source": [
        "### Применение:\n",
        "\n",
        "1. **Парсинг предложений**: Синтаксические деревья, которые извлекаются из Penn Treebank, используются для тренировки парсеров (моделей, которые извлекают грамматическую структуру предложений). Это помогает моделям не только понимать части речи, но и связи между словами (например, какие слова зависят друг от друга).\n",
        "\n",
        "2. **Обработка текста и перевод**: В системах автоматического перевода и анализа текстов модели, тренированные на Penn Treebank, могут быть использованы для лучшего понимания грамматической структуры, что помогает в переводе или синтезе текста."
      ],
      "metadata": {
        "id": "yYEHQ9y3pPZF"
      }
    },
    {
      "cell_type": "markdown",
      "source": [
        "### Связь с `TreebankWordDetokenizer`:\n",
        "\n",
        "Когда текст токенизируется в соответствии с правилами Penn Treebank, он может содержать особенности, такие как отдельные знаки препинания и особую обработку сокращений. Для восстановления оригинального текста после токенизации и применения языковых моделей используется детокенизация. Класс `TreebankWordDetokenizer`, о котором мы говорили ранее, восстанавливает исходный текст из токенов, следуя правилам Penn Treebank.\n",
        "\n",
        "**Пример**:\n",
        "```\n",
        "Токенизированный текст: ['I', 'do', \"n't\", 'know', '.']\n",
        "Детокенизация: I don't know.\n",
        "```\n",
        "\n",
        "Таким образом, Penn Treebank задает стандарты для работы с текстом, а такие инструменты, как `TreebankWordDetokenizer`, помогают соблюдать эти стандарты при обратной детокенизации."
      ],
      "metadata": {
        "id": "_ZzvhOh0pRv6"
      }
    },
    {
      "cell_type": "markdown",
      "source": [
        "## XLM-RoBERTa"
      ],
      "metadata": {
        "id": "HYbRugKyqzIg"
      }
    },
    {
      "cell_type": "markdown",
      "source": [
        "Модель [**XLM-RoBERTa-base**](https://huggingface.co/FacebookAI/xlm-roberta-base) — это многоязычная версия RoBERTa, разработанная компанией Facebook AI. Она является частью семейства моделей **XLM (Cross-lingual Language Models)** и **RoBERTa** (A Robustly Optimized BERT Pretraining Approach), и предназначена для обработки текстов на множестве языков одновременно. Модель специально обучена для работы с большим количеством языков и может использоваться для таких задач, как машинный перевод, классификация текста, распознавание сущностей и другие задачи обработки естественного языка (NLP)."
      ],
      "metadata": {
        "id": "yqQNyTEasJyC"
      }
    },
    {
      "cell_type": "markdown",
      "source": [
        "### Основные характеристики XLM-RoBERTa-base:\n",
        "\n",
        "1. **Многоязычная модель**:\n",
        "   XLM-RoBERTa поддерживает **100 языков**, что делает её универсальной для приложений NLP в многоязычной среде. Она может эффективно работать с текстами на разных языках без необходимости адаптации к каждому языку в отдельности.\n",
        "\n",
        "2. **Архитектура**:\n",
        "   Модель основана на архитектуре RoBERTa, которая в свою очередь является улучшенной версией BERT. Основные изменения в RoBERTa по сравнению с BERT:\n",
        "   - Использование большего объема данных для предобучения.\n",
        "   - Более длинные последовательности входных данных во время тренировки.\n",
        "   - Исключение задачи предсказания порядка предложений (Next Sentence Prediction).\n",
        "\n",
        "3. **Размеры модели**:\n",
        "   - **Количество слоев**: 12\n",
        "   - **Размер скрытого слоя**: 768\n",
        "   - **Количество голов в механизме внимания (attention heads)**: 12\n",
        "   - **Общее количество параметров**: 270M (млн. параметров)\n",
        "\n",
        "4. **Предобучение**:\n",
        "   Модель была предобучена на огромном объеме неразмеченного текстового материала на 100 языках, включая широко распространенные языки (такие как английский, испанский, китайский) и менее распространенные (например, урду, малагасийский и т. д.). Обучение проводилось на задаче предсказания пропущенных слов (Masked Language Modeling), что аналогично обучению BERT.\n",
        "\n",
        "5. **Отсутствие языковой адаптации**:\n",
        "   XLM-RoBERTa не требует специализированной адаптации для конкретного языка. Это достигается за счет обучения на масштабных многоязычных корпусах, что позволяет модели эффективно обрабатывать текст на любом из 100 языков."
      ],
      "metadata": {
        "id": "3yOY5fU6sO_R"
      }
    },
    {
      "cell_type": "markdown",
      "source": [
        "### Применение модели\n",
        "\n",
        "XLM-RoBERTa-base можно использовать в широком диапазоне задач:\n",
        "\n",
        "1. **Многоязычная классификация текста**:\n",
        "   Модель может классифицировать текст на разных языках, не требуя дополнительного обучения на каждом языке. Примеры задач:\n",
        "   - Классификация отзывов.\n",
        "   - Определение тональности текста (позитивная/негативная).\n",
        "\n",
        "2. **Распознавание именованных сущностей (NER)**:\n",
        "   Модель может выделять имена людей, организаций, географических объектов и другие сущности в тексте на множестве языков.\n",
        "\n",
        "3. **Машинный перевод**:\n",
        "   Хотя XLM-RoBERTa не является чисто переводческой моделью, её можно использовать в многоязычных задачах понимания текста и анализа качества перевода.\n",
        "\n",
        "4. **Семантический анализ и вопросно-ответные системы**:\n",
        "   Модель может быть использована для создания систем, которые отвечают на вопросы, основанные на текстовых данных, независимо от того, на каком языке предоставлена информация."
      ],
      "metadata": {
        "id": "sbU4H2B4sSbq"
      }
    },
    {
      "cell_type": "markdown",
      "source": [
        "### Пример использования\n",
        "\n",
        "Вот пример, как использовать XLM-RoBERTa-base через библиотеку `transformers` от Hugging Face для предсказания маскированных токенов:"
      ],
      "metadata": {
        "id": "RJ1YZoO7sVIa"
      }
    },
    {
      "cell_type": "code",
      "source": [
        "from transformers import XLMRobertaTokenizer, XLMRobertaForMaskedLM\n",
        "import torch\n",
        "\n",
        "# Загружаем токенайзер и модель\n",
        "tokenizer = XLMRobertaTokenizer.from_pretrained('xlm-roberta-base')\n",
        "model = XLMRobertaForMaskedLM.from_pretrained('xlm-roberta-base')\n",
        "\n",
        "# Пример текста с маской\n",
        "text = \"I love to play <mask> in the evening.\"\n",
        "\n",
        "# Токенизация\n",
        "input_ids = tokenizer.encode(text, return_tensors=\"pt\")\n",
        "\n",
        "# Прогоняем через модель\n",
        "with torch.no_grad():\n",
        "    outputs = model(input_ids)\n",
        "\n",
        "# Получаем вероятности для маскированного слова\n",
        "masked_index = torch.where(input_ids == tokenizer.mask_token_id)[1]\n",
        "logits = outputs.logits\n",
        "softmax = torch.nn.functional.softmax(logits, dim=-1)\n",
        "mask_word_logits = softmax[0, masked_index, :]\n",
        "top_5_words = torch.topk(mask_word_logits, 5, dim=1).indices\n",
        "\n",
        "# Декодируем и выводим слова\n",
        "for idx in top_5_words[0]:\n",
        "    word = tokenizer.decode([idx])\n",
        "    print(f\"Возможное слово: {word}\")"
      ],
      "metadata": {
        "id": "Avt4ql3vsp28"
      },
      "execution_count": null,
      "outputs": []
    },
    {
      "cell_type": "markdown",
      "source": [
        "### Особенности XLM-RoBERTa по сравнению с другими моделями:\n",
        "- **Многоязычность**: В отличие от монолингвальных моделей вроде BERT, XLM-RoBERTa обучена на многих языках, что делает её универсальной для многоязычных приложений.\n",
        "- **Более эффективное предобучение**: Благодаря большим данным и улучшенной тренировочной процедуре, XLM-RoBERTa показала лучшие результаты в сравнении с XLM (моделью-предшественником) на многих NLP-задачах.\n",
        "\n",
        "**XLM-RoBERTa-base** — мощная многоязычная модель, которая отлично подходит для задач NLP, требующих обработки текстов на разных языках. Она сочетает в себе преимущества моделей BERT и RoBERTa, но при этом обладает способностью эффективно работать с несколькими языками без необходимости адаптации к каждому из них."
      ],
      "metadata": {
        "id": "D43SkzU-seg5"
      }
    },
    {
      "cell_type": "markdown",
      "source": [
        "## tokenizer.word_ids"
      ],
      "metadata": {
        "id": "25nEHX-7tZiB"
      }
    },
    {
      "cell_type": "markdown",
      "source": [
        "`tokenizer.word_ids` — это метод в некоторых токенайзерах библиотеки `Hugging Face Transformers`, который позволяет сопоставить токены с исходными словами в тексте. Этот метод возвращает список индексов слов, которым принадлежат соответствующие токены. Это особенно полезно в задачах, где нужно сохранить связь между токенами и оригинальными словами, например, при решении задач последовательного анализа текста (таких как Named Entity Recognition, NER) или при работе с субтокенами (WordPiece или BPE)."
      ],
      "metadata": {
        "id": "DStRh9FrtcJk"
      }
    },
    {
      "cell_type": "markdown",
      "source": [
        "### Как работает `tokenizer.word_ids`:\n",
        "\n",
        "Когда токенайзер разбивает текст на токены, некоторые слова могут быть разделены на несколько токенов, особенно если используется метод субтокенизации (например, в BERT, RoBERTa или других моделях). Например, слово может быть разбито на несколько частей, которые будут токенизированы отдельно. `tokenizer.word_ids` позволяет понять, к какому исходному слову относится каждый из токенов."
      ],
      "metadata": {
        "id": "rjWuR2dZth0R"
      }
    },
    {
      "cell_type": "markdown",
      "source": [
        "### Пример использования\n",
        "\n",
        "Рассмотрим на примере:\n",
        "\n",
        "```python\n",
        "from transformers import BertTokenizer\n",
        "\n",
        "# Инициализация токенайзера\n",
        "tokenizer = BertTokenizer.from_pretrained('bert-base-uncased')\n",
        "\n",
        "# Текст для токенизации\n",
        "text = \"Hello, how are you?\"\n",
        "\n",
        "# Токенизация\n",
        "tokens = tokenizer(text, return_offsets_mapping=True)\n",
        "\n",
        "# Получаем word_ids\n",
        "word_ids = tokens.word_ids()\n",
        "\n",
        "print(\"Токены:\", tokenizer.convert_ids_to_tokens(tokens['input_ids']))\n",
        "print(\"Индексы слов:\", word_ids)\n",
        "```\n",
        "\n",
        "### Вывод:\n",
        "\n",
        "```\n",
        "Токены: ['[CLS]', 'hello', ',', 'how', 'are', 'you', '?', '[SEP]']\n",
        "Индексы слов: [None, 0, 0, 1, 2, 3, 3, None]\n",
        "```\n",
        "\n",
        "- `None`: Специальные токены, такие как `[CLS]` и `[SEP]`, не относятся ни к одному слову, поэтому им присваивается `None`.\n",
        "- `0`: Токены `'hello'` и `','` относятся к первому слову (индекс 0).\n",
        "- `1`, `2`, `3`: Токены `how`, `are` и `you` относятся к разным словам (индексы 1, 2, 3 соответственно)."
      ],
      "metadata": {
        "id": "KuWk6fZ8tkqZ"
      }
    },
    {
      "cell_type": "markdown",
      "source": [
        "### Когда это полезно?\n",
        "\n",
        "1. **Задачи распознавания сущностей (NER)**: При обработке текста для задач распознавания именованных сущностей нужно знать, какие токены принадлежат какому слову, особенно если одно слово разбито на несколько субтокенов.\n",
        "   \n",
        "2. **Сопоставление с исходным текстом**: В некоторых задачах важно сопоставить токены с исходным текстом, чтобы восстановить связи между исходными словами и токенами.\n",
        "\n",
        "3. **Работа с субтокенами**: При работе с токенизаторами типа WordPiece или Byte-Pair Encoding (BPE), которые разбивают слова на субтокены, можно использовать `word_ids`, чтобы знать, какие токены принадлежат какому слову.\n",
        "\n",
        "Таким образом, метод `word_ids` предоставляет полезную информацию для привязки токенов к их исходным словам, что важно для точного анализа и обработки текста в NLP-задачах."
      ],
      "metadata": {
        "id": "m5LSg46Ftnhq"
      }
    },
    {
      "cell_type": "markdown",
      "source": [
        "## Выравнивание меток"
      ],
      "metadata": {
        "id": "J0_Xwlg6xvFr"
      }
    },
    {
      "cell_type": "markdown",
      "source": [
        "**Выравнивание меток в задаче распознавания именованных сущностей (NER)** — это процесс корректного сопоставления меток (например, именованных сущностей) с токенами после токенизации текста. Это особенно важно, когда используется субтокенизация (например, в моделях BERT или RoBERTa), где одно слово может быть разбито на несколько токенов."
      ],
      "metadata": {
        "id": "Jx9NJQrVxxwI"
      }
    },
    {
      "cell_type": "markdown",
      "source": [
        "### Проблема выравнивания меток:\n",
        "В задаче NER метки обычно присваиваются целым словам, а не отдельным токенам. Например, у нас может быть метка для слова \"London\" как местоположения (\"B-LOC\"), но когда мы токенизируем слово, оно может быть разбито на несколько частей, особенно если используется метод субтокенизации (например, токенизация на уровне Byte-Pair Encoding или WordPiece). Например, слово \"NewYork\" может быть разбито на два токена: `New` и `##York`.\n",
        "\n",
        "**Пример проблемы**:\n",
        "- Исходное предложение: `[\"John\", \"lives\", \"in\", \"NewYork\"]`\n",
        "- Метки: `[B-PER, O, O, B-LOC]`\n",
        "- После токенизации: `[\"John\", \"lives\", \"in\", \"New\", \"##York\"]`\n",
        "\n",
        "В этой ситуации нам нужно выравнять метки таким образом, чтобы они соответствовали каждому токену:\n",
        "- Для первого токена \"John\" метка `B-PER`.\n",
        "- Для \"New\" и \"##York\" должна быть метка `B-LOC` для первого токена, и `-100` для второго субтокена, чтобы избежать учета дублирующихся меток при вычислении функции потерь."
      ],
      "metadata": {
        "id": "p_fE3ITEx1-U"
      }
    },
    {
      "cell_type": "markdown",
      "source": [
        "### Как это делается?\n",
        "\n",
        "Вот как выравнивание меток может быть реализовано:\n",
        "\n",
        "1. **Токенизация текста с разбиением на слова**: Используем токенизатор с параметром `is_split_into_words=True`, чтобы он знал, что исходные данные уже разбиты на слова, и каждое слово будет обрабатываться отдельно.\n",
        "\n",
        "2. **Получение индексов слов для токенов**: Используется метод `word_ids()` токенайзера для того, чтобы сопоставить каждому токену индекс исходного слова.\n",
        "\n",
        "3. **Присвоение меток**: Каждому токену присваивается метка. Для первого токена слова метка соответствует метке слова, а для всех остальных токенов (субтокенов) слова задается специальная метка `-100`, чтобы они не учитывались при расчете потерь."
      ],
      "metadata": {
        "id": "IA-_YOyHx6Aq"
      }
    },
    {
      "cell_type": "markdown",
      "source": [
        "### Пошаговая реализация"
      ],
      "metadata": {
        "id": "4BjPcsB6x9g9"
      }
    },
    {
      "cell_type": "code",
      "source": [
        "def tokenize_and_align_labels(examples):\n",
        "    # Токенизация с учетом разбиения на слова\n",
        "    tokenized_inputs = tokenizer(examples['tokens'], truncation=True, is_split_into_words=True)\n",
        "\n",
        "    # Здесь будем сохранять метки, выровненные с токенами\n",
        "    labels = []\n",
        "\n",
        "    for i, label in enumerate(examples['ner_tags']):\n",
        "        # Получаем индексы слов для каждого токена в токенизированной последовательности\n",
        "        word_ids = tokenized_inputs.word_ids(batch_index=i)\n",
        "\n",
        "        # Переменная для отслеживания предыдущего индекса слова\n",
        "        previous_word_idx = None\n",
        "        label_ids = []\n",
        "\n",
        "        # Для каждого токена определяем метку\n",
        "        for word_idx in word_ids:\n",
        "            if word_idx is None:  # Специальные токены, такие как [CLS], [SEP]\n",
        "                label_ids.append(-100)  # Пропускаем их при обучении\n",
        "            elif word_idx != previous_word_idx:  # Это первый токен слова\n",
        "                label_ids.append(label[word_idx])  # Присваиваем метку слова\n",
        "            else:  # Это субтокен, присваиваем -100, чтобы игнорировать\n",
        "                label_ids.append(-100)\n",
        "\n",
        "            previous_word_idx = word_idx\n",
        "\n",
        "        # Добавляем полученные метки в список\n",
        "        labels.append(label_ids)\n",
        "\n",
        "    # Добавляем метки в токенизированные данные\n",
        "    tokenized_inputs['labels'] = labels\n",
        "    return tokenized_inputs"
      ],
      "metadata": {
        "id": "55J2uldfyFZy"
      },
      "execution_count": null,
      "outputs": []
    },
    {
      "cell_type": "markdown",
      "source": [
        "### Что происходит в этом коде?\n",
        "\n",
        "1. **Токенизация текста**:\n",
        "   - Функция принимает на вход пример данных с токенами и метками именованных сущностей.\n",
        "   - Токенайзер используется для разбивки слов на токены (субтокены) с указанием, что входной текст уже разбит на слова (`is_split_into_words=True`).\n",
        "\n",
        "2. **Выравнивание меток**:\n",
        "   - Используя `word_ids()`, получаем список индексов, где каждый токен сопоставляется с индексом соответствующего слова.\n",
        "   - Для каждого токена проверяется, является ли он первым токеном слова или субтокеном:\n",
        "     - Если это первый токен слова, ему присваивается соответствующая метка.\n",
        "     - Если это субтокен, ему присваивается метка `-100`, которая будет проигнорирована моделью при обучении (не учитывается в функции потерь).\n",
        "\n",
        "3. **Специальные токены**:\n",
        "   - Специальные токены, такие как `[CLS]`, `[SEP]`, также получают метку `-100`."
      ],
      "metadata": {
        "id": "TpOLacGuyBpd"
      }
    },
    {
      "cell_type": "markdown",
      "source": [
        "### Зачем нужно выравнивание меток?\n",
        "\n",
        "1. **Корректное обучение**: При обучении модели важно, чтобы метки соответствовали именно тем токенам, которые представляют начало слов. Если не выравнивать метки, модель может обучиться неправильно, особенно если одно слово разбито на несколько субтокенов.\n",
        "\n",
        "2. **Игнорирование субтокенов**: Во многих задачах, например, NER, метка присваивается только первому токену каждого слова, а последующие субтокены игнорируются. Если этого не сделать, модель может получить лишние штрафы за неправильные предсказания меток для субтокенов.\n",
        "\n",
        "**Выравнивание меток в задаче NER** заключается в том, чтобы правильно сопоставить метки для сущностей с токенами после субтокенизации, избегая дублирования меток для частей одного слова. Это делается с помощью присваивания меток только первым токенам слов, а субтокены и специальные токены игнорируются с меткой `-100`."
      ],
      "metadata": {
        "id": "NAA_31w3yKB-"
      }
    },
    {
      "cell_type": "markdown",
      "source": [
        "## Seqeval"
      ],
      "metadata": {
        "id": "Ihmq3V_qwHAr"
      }
    },
    {
      "cell_type": "markdown",
      "source": [
        "**Seqeval** — это библиотека и метрика, используемая для оценки качества моделей в задачах последовательного анализа текста, таких как **распознавание именованных сущностей (NER)**, **частеречная разметка (POS-tagging)** и других задачах, связанных с маркировкой последовательностей. Она предназначена для вычисления таких метрик, как **precision** (точность), **recall** (полнота) и **F1-score** (F-мера), с учетом последовательных данных и их правильного выравнивания по сущностям.\n",
        "\n",
        "Seqeval предназначена для работы с задачами, где предсказания и истинные метки даны в виде последовательностей, и где важен не просто правильный выбор отдельной метки, но и правильное предсказание всей сущности. Это особенно важно для таких задач, как NER, где целые фрагменты текста могут быть помечены как сущности, и ошибки в начале или конце сущности могут быть критичными."
      ],
      "metadata": {
        "id": "SJ3njdxgwKX9"
      }
    },
    {
      "cell_type": "markdown",
      "source": [
        "### Основные метрики:\n",
        "1. **Precision (точность)** — доля правильно предсказанных сущностей среди всех предсказанных сущностей.\n",
        "2. **Recall (полнота)** — доля правильно предсказанных сущностей среди всех реальных сущностей.\n",
        "3. **F1-score (F-мера)** — гармоническое среднее между precision и recall. Эта метрика часто используется для оценки баланса между точностью и полнотой.\n",
        "\n",
        "### Пример использования\n",
        "\n",
        "Seqeval можно использовать для оценки производительности модели на задаче NER. Вот пример использования библиотеки:\n",
        "\n",
        "#### Установка Seqeval:\n",
        "```bash\n",
        "pip install seqeval\n",
        "```\n",
        "\n",
        "#### Пример кода для оценки:\n",
        "```python\n",
        "from seqeval.metrics import classification_report, f1_score\n",
        "\n",
        "# Истинные метки (true labels)\n",
        "true_labels = [\n",
        "    ['B-PER', 'I-PER', 'O', 'B-LOC', 'O'],  # B-начало сущности, I-внутренняя часть, O-вне сущности\n",
        "]\n",
        "\n",
        "# Предсказанные метки (predicted labels)\n",
        "pred_labels = [\n",
        "    ['B-PER', 'I-PER', 'O', 'B-LOC', 'O'],\n",
        "]\n",
        "\n",
        "# Вычисление F1-score\n",
        "f1 = f1_score(true_labels, pred_labels)\n",
        "print(\"F1 Score:\", f1)\n",
        "\n",
        "# Получение отчета классификации\n",
        "report = classification_report(true_labels, pred_labels)\n",
        "print(report)\n",
        "```\n",
        "\n",
        "#### Вывод:\n",
        "```\n",
        "F1 Score: 1.0\n",
        "\n",
        "           precision    recall  f1-score   support\n",
        "\n",
        "        PER       1.00      1.00      1.00         2\n",
        "        LOC       1.00      1.00      1.00         1\n",
        "\n",
        "   micro avg       1.00      1.00      1.00         3\n",
        "   macro avg       1.00      1.00      1.00         3\n",
        "weighted avg       1.00      1.00      1.00         3\n",
        "```"
      ],
      "metadata": {
        "id": "rURFXKFrwUME"
      }
    },
    {
      "cell_type": "markdown",
      "source": [
        "## Warmup"
      ],
      "metadata": {
        "id": "K0_KMSQj1JGh"
      }
    },
    {
      "cell_type": "markdown",
      "source": [
        "**Warmup ratio** — это параметр, который используется при настройке **адаптивной скорости обучения** (learning rate) во время обучения моделей машинного обучения, особенно в глубоких нейронных сетях. Warmup ratio определяет, какую часть начальных шагов обучения нужно провести с увеличением скорости обучения от очень низкого значения до начального оптимального значения.\n",
        "\n",
        "### Зачем нужен **warmup**?\n",
        "\n",
        "Во время обучения моделей глубокого обучения, если сразу начать с высокой скорости обучения (learning rate), это может привести к дестабилизации модели. Градиенты могут становиться слишком большими, что может вызвать скачки в значениях весов или даже привести к «взрыву» градиентов. Чтобы избежать этого, на начальных шагах обучения используется техника **разогрева (warmup)**, при которой скорость обучения постепенно увеличивается от очень низкого значения до желаемого оптимального значения."
      ],
      "metadata": {
        "id": "aaEK2GBU1CER"
      }
    },
    {
      "cell_type": "markdown",
      "source": [
        "### Как работает **warmup_ratio**?\n",
        "\n",
        "1. **Warmup steps**: Для разогрева используется определённое количество шагов обучения (epochs или iterations), в течение которых learning rate постепенно увеличивается.\n",
        "2. **Warmup ratio** определяет долю от общего числа шагов обучения (или эпох), которая будет использована для разогрева.\n",
        "   - Например, если мы указываем `warmup_ratio = 0.1`, это значит, что 10% начальных шагов обучения будут использованы для разогрева.\n",
        "   - Если всего предусмотрено 10 000 шагов, то разогрев будет проводиться на первых 1 000 шагах."
      ],
      "metadata": {
        "id": "ue-PP3gT1NFz"
      }
    },
    {
      "cell_type": "markdown",
      "source": [
        "### Как изменяется скорость обучения:\n",
        "\n",
        "Сначала скорость обучения плавно увеличивается до максимального значения (пика), а затем может начать уменьшаться согласно выбранной стратегии оптимизации. Обычные схемы изменения скорости обучения после разогрева включают:\n",
        "- **Косинусное затухание** (cosine decay)\n",
        "- **Шаговое уменьшение** (step decay)\n",
        "- **Exponential decay** (экспоненциальное затухание)"
      ],
      "metadata": {
        "id": "L_iOXJIZ1Qz8"
      }
    },
    {
      "cell_type": "markdown",
      "source": [
        "### Пример изменения скорости обучения с **warmup**:\n",
        "\n",
        "- **Warmup**: вначале скорость обучения увеличивается линейно от очень маленького значения до целевого.\n",
        "- **Основная часть обучения**: после разогрева скорость обучения может оставаться постоянной или уменьшаться по одной из выбранных стратегий.\n",
        "\n",
        "График может выглядеть так:\n",
        "```\n",
        "Learning rate (Y-axis)\n",
        "|\n",
        "|       ________\n",
        "|      /        \\\n",
        "|     /          \\\n",
        "|    /            \\\n",
        "|___/              \\\n",
        "Warmup    Plateau    Decay (затухание)\n",
        "       (максимальная скорость обучения)\n",
        "```\n"
      ],
      "metadata": {
        "id": "W-RRUzDa1Vzk"
      }
    },
    {
      "cell_type": "markdown",
      "source": [
        "### Пример использования в коде\n",
        "\n",
        "Когда обучаем модель, например, с использованием библиотеки **Hugging Face Transformers**, параметр `warmup_ratio` можно указать при настройке планировщика обучения."
      ],
      "metadata": {
        "id": "GrDxpHX-1ZYx"
      }
    },
    {
      "cell_type": "code",
      "source": [
        "from transformers import AdamW, get_scheduler\n",
        "\n",
        "# Инициализация оптимизатора\n",
        "optimizer = AdamW(model.parameters(), lr=5e-5)\n",
        "\n",
        "# Количество шагов обучения\n",
        "num_train_steps = 10000\n",
        "\n",
        "# Warmup ratio (например, 0.1 = 10% шагов используются для разогрева)\n",
        "warmup_ratio = 0.1\n",
        "num_warmup_steps = int(num_train_steps * warmup_ratio)\n",
        "\n",
        "# Планировщик изменения скорости обучения с warmup\n",
        "lr_scheduler = get_scheduler(\n",
        "    \"linear\",  # Линейное увеличение на этапе warmup\n",
        "    optimizer=optimizer,\n",
        "    num_warmup_steps=num_warmup_steps,\n",
        "    num_training_steps=num_train_steps\n",
        ")\n",
        "\n",
        "# В процессе обучения обновляем планировщик на каждом шаге\n",
        "for epoch in range(num_epochs):\n",
        "    for step, batch in enumerate(train_dataloader):\n",
        "        # Шаг обучения\n",
        "        loss = model(**batch).loss\n",
        "        loss.backward()\n",
        "        optimizer.step()\n",
        "        lr_scheduler.step()  # Обновляем learning rate\n",
        "        optimizer.zero_grad()"
      ],
      "metadata": {
        "id": "U-G_a5za1gx6"
      },
      "execution_count": null,
      "outputs": []
    },
    {
      "cell_type": "markdown",
      "source": [
        "### Почему важен **warmup_ratio**?\n",
        "\n",
        "1. **Стабильность на ранних этапах обучения**: Разогрев скорости обучения помогает избежать слишком резкого изменения весов на начальных шагах, когда модель ещё «не уверена» в оптимальных направлениях обновления градиентов.\n",
        "  \n",
        "2. **Ускорение сходимости**: Плавное увеличение скорости обучения помогает модели быстрее сходиться, избегая эффекта слишком малой скорости обучения в начале, что может замедлить обучение.\n",
        "\n",
        "3. **Улучшение качества**: Warmup позволяет достичь лучшего качества модели, так как она начинает обучение более плавно и избегает дестабилизации."
      ],
      "metadata": {
        "id": "rDg43-Uh1cYE"
      }
    },
    {
      "cell_type": "markdown",
      "source": [
        "### Когда использовать **warmup**?\n",
        "\n",
        "- **Глубокие нейронные сети**: Чем больше слоев в сети, тем важнее warmup для обеспечения стабильного обучения.\n",
        "- **Большие модели**: В больших языковых моделях (например, BERT, GPT) разогрев скорости обучения считается стандартной практикой.\n",
        "- **Transformer модели**: Для моделей трансформеров разогрев скорости обучения — это часть стандартной процедуры обучения, поскольку они особенно чувствительны к начальным условиям обучения.\n",
        "\n",
        "**Warmup ratio** — это ключевая стратегия для улучшения стабильности и сходимости модели на ранних этапах обучения. Он контролирует, какую часть начальных шагов обучения использовать для плавного увеличения скорости обучения, что позволяет избежать нестабильности и «взрывов» градиентов."
      ],
      "metadata": {
        "id": "fgmrHSh31j-s"
      }
    },
    {
      "cell_type": "markdown",
      "source": [
        "## Tensorboard"
      ],
      "metadata": {
        "id": "Ye2GiJBhBEtI"
      }
    },
    {
      "cell_type": "markdown",
      "source": [
        "Для того чтобы запустить визуализацию обучения с помощью **TensorBoard** в связке с **Trainer** из библиотеки **Transformers**, необходимо выполнить следующие шаги:"
      ],
      "metadata": {
        "id": "YWZNZ22HA6t3"
      }
    },
    {
      "cell_type": "markdown",
      "source": [
        "### 1. Установите TensorBoard"
      ],
      "metadata": {
        "id": "DkHuPXUqBHv1"
      }
    },
    {
      "cell_type": "code",
      "source": [
        "!pip install tensorboard"
      ],
      "metadata": {
        "id": "iFZ6yhMrBclB"
      },
      "execution_count": null,
      "outputs": []
    },
    {
      "cell_type": "markdown",
      "source": [
        "### 2. Настройте `Trainer` для работы с TensorBoard\n",
        "\n",
        "В **Transformers** поддержка логирования через TensorBoard встроена в класс `Trainer`. Для этого нужно настроить `Trainer` с помощью **TensorBoardCallback**, который автоматически добавляет логи в директорию, которая затем может быть использована для визуализации.\n"
      ],
      "metadata": {
        "id": "ZTn1t_B2BLai"
      }
    },
    {
      "cell_type": "code",
      "source": [
        "from transformers import Trainer, TrainingArguments\n",
        "from transformers.integrations import TensorBoardCallback\n",
        "\n",
        "# Задаем аргументы обучения\n",
        "training_args = TrainingArguments(\n",
        "    output_dir=\"./results\",        # Директория для сохранения модели и логов\n",
        "    evaluation_strategy=\"steps\",   # Оценка модели каждые N шагов\n",
        "    eval_steps=500,                # Количество шагов между оценками\n",
        "    logging_dir=\"./logs\",          # Директория для логов TensorBoard\n",
        "    logging_steps=100,             # Запись логов каждые 100 шагов\n",
        ")\n",
        "\n",
        "# Инициализация Trainer\n",
        "trainer = Trainer(\n",
        "    model=model,                   # Ваша модель\n",
        "    args=training_args,            # Аргументы обучения\n",
        "    train_dataset=train_dataset,   # Датасет для обучения\n",
        "    eval_dataset=eval_dataset,     # Датасет для оценки\n",
        ")\n",
        "\n",
        "# Добавление TensorBoard callback\n",
        "trainer.add_callback(TensorBoardCallback)\n",
        "\n",
        "# Запуск обучения\n",
        "trainer.train()"
      ],
      "metadata": {
        "id": "L3YV6j49BhWz"
      },
      "execution_count": null,
      "outputs": []
    },
    {
      "cell_type": "markdown",
      "source": [
        "### 3. Запустите TensorBoard для просмотра логов\n",
        "\n",
        "После того как начнется обучение, все метрики и статистика будут записываться в директорию, указанную в параметре `logging_dir` (например, `./logs`). Теперь, чтобы запустить визуализацию через TensorBoard, выполните следующую команду в терминале:"
      ],
      "metadata": {
        "id": "9kNtfvSfBO0i"
      }
    },
    {
      "cell_type": "code",
      "source": [
        "tensorboard --logdir ./logs"
      ],
      "metadata": {
        "id": "WkSqfvhSBm1L"
      },
      "execution_count": null,
      "outputs": []
    },
    {
      "cell_type": "markdown",
      "source": [
        "Затем откройте в браузере URL, который будет указан в терминале (например, `http://localhost:6006`)."
      ],
      "metadata": {
        "id": "xjCbTUNPBoyN"
      }
    },
    {
      "cell_type": "markdown",
      "source": [
        "\n",
        "### 4. Визуализация в TensorBoard\n",
        "\n",
        "После выполнения команды `tensorboard --logdir ./logs`, вы сможете открыть интерфейс TensorBoard в браузере, где будут отображаться следующие метрики:\n",
        "- Потери (loss)\n",
        "- Метрики оценки (например, точность, F1-score, если они добавлены)\n",
        "- Скорость обучения (learning rate)\n",
        "- Время на шаг и другие производственные метрики."
      ],
      "metadata": {
        "id": "Sofj6iQZBSUe"
      }
    },
    {
      "cell_type": "markdown",
      "source": [
        "### Дополнительные настройки\n",
        "\n",
        "- **`logging_steps`**: Этот параметр в `TrainingArguments` определяет, как часто будут записываться логи для TensorBoard. Например, `logging_steps=100` означает, что логи будут записываться каждые 100 шагов.\n",
        "- **`evaluation_strategy`**: Если вам нужно логировать результаты оценки (evaluation), задайте этот параметр, например, как `\"steps\"` для выполнения оценки каждые `eval_steps` шагов."
      ],
      "metadata": {
        "id": "QYuQto7FBU8j"
      }
    },
    {
      "cell_type": "markdown",
      "source": [
        "### Пример с дополнительной метрикой\n",
        "\n",
        "Чтобы добавить кастомную метрику в визуализацию (например, точность):"
      ],
      "metadata": {
        "id": "BdCYjLfQBXab"
      }
    },
    {
      "cell_type": "code",
      "source": [
        "from datasets import load_metric\n",
        "\n",
        "# Загрузка метрики (например, для оценки точности)\n",
        "metric = load_metric(\"accuracy\")\n",
        "\n",
        "def compute_metrics(p):\n",
        "    preds = np.argmax(p.predictions, axis=1)\n",
        "    return metric.compute(predictions=preds, references=p.label_ids)\n",
        "\n",
        "# Задаем аргументы обучения\n",
        "training_args = TrainingArguments(\n",
        "    output_dir=\"./results\",\n",
        "    evaluation_strategy=\"steps\",\n",
        "    eval_steps=500,\n",
        "    logging_dir=\"./logs\",\n",
        "    logging_steps=100,\n",
        ")\n",
        "\n",
        "# Инициализация Trainer с функцией метрик\n",
        "trainer = Trainer(\n",
        "    model=model,\n",
        "    args=training_args,\n",
        "    train_dataset=train_dataset,\n",
        "    eval_dataset=eval_dataset,\n",
        "    compute_metrics=compute_metrics  # Передаем функцию для оценки метрик\n",
        ")\n",
        "\n",
        "# Добавление TensorBoard callback\n",
        "trainer.add_callback(TensorBoardCallback)\n",
        "\n",
        "# Запуск обучения\n",
        "trainer.train()"
      ],
      "metadata": {
        "id": "4zRw7WWdsX0h"
      },
      "execution_count": null,
      "outputs": []
    },
    {
      "cell_type": "markdown",
      "source": [
        "Теперь в TensorBoard будут доступны и кастомные метрики, такие как точность (accuracy), наряду с потерями (loss) и скоростью обучения."
      ],
      "metadata": {
        "id": "5QliJv2ABvfY"
      }
    },
    {
      "cell_type": "code",
      "source": [],
      "metadata": {
        "id": "SXLLfzZ5Bv8w"
      },
      "execution_count": null,
      "outputs": []
    }
  ]
}