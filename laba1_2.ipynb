{
  "cells": [
    {
      "cell_type": "markdown",
      "metadata": {
        "id": "HB24GA6Ktsiy"
      },
      "source": [
        "## Задача"
      ]
    },
    {
      "cell_type": "markdown",
      "metadata": {
        "id": "8EaBWpVyuDTq"
      },
      "source": [
        "- сделать анализ классификации текста с помощью LLM Qwen2-7B-Instruct\n",
        "- сформировать classification_report с метриками\n",
        "- замерить время получения предсказаний LLM и логрег\n",
        "- сравнить метрики LLM и логрег\n",
        "- описать результаты и сделать выводы"
      ]
    },
    {
      "cell_type": "markdown",
      "metadata": {
        "id": "g6PMGeWYwqcC"
      },
      "source": [
        "https://huggingface.co/Qwen/Qwen2-7B-Instruct - карточка модели<br>\n",
        "Тут описано, что она из себя представляет и как её использовать."
      ]
    },
    {
      "cell_type": "code",
      "execution_count": 1,
      "metadata": {
        "colab": {
          "base_uri": "https://localhost:8080/"
        },
        "id": "4dMQe0BAfPmv",
        "outputId": "d7d9814d-9e6c-4c45-ef21-d034e017c987"
      },
      "outputs": [
        {
          "output_type": "stream",
          "name": "stdout",
          "text": [
            "Requirement already satisfied: fuzzywuzzy in /usr/local/lib/python3.10/dist-packages (0.18.0)\n",
            "Requirement already satisfied: datasets in /usr/local/lib/python3.10/dist-packages (3.0.1)\n",
            "Requirement already satisfied: filelock in /usr/local/lib/python3.10/dist-packages (from datasets) (3.16.1)\n",
            "Requirement already satisfied: numpy>=1.17 in /usr/local/lib/python3.10/dist-packages (from datasets) (1.26.4)\n",
            "Requirement already satisfied: pyarrow>=15.0.0 in /usr/local/lib/python3.10/dist-packages (from datasets) (16.1.0)\n",
            "Requirement already satisfied: dill<0.3.9,>=0.3.0 in /usr/local/lib/python3.10/dist-packages (from datasets) (0.3.8)\n",
            "Requirement already satisfied: pandas in /usr/local/lib/python3.10/dist-packages (from datasets) (2.2.2)\n",
            "Requirement already satisfied: requests>=2.32.2 in /usr/local/lib/python3.10/dist-packages (from datasets) (2.32.3)\n",
            "Requirement already satisfied: tqdm>=4.66.3 in /usr/local/lib/python3.10/dist-packages (from datasets) (4.66.5)\n",
            "Requirement already satisfied: xxhash in /usr/local/lib/python3.10/dist-packages (from datasets) (3.5.0)\n",
            "Requirement already satisfied: multiprocess in /usr/local/lib/python3.10/dist-packages (from datasets) (0.70.16)\n",
            "Requirement already satisfied: fsspec<=2024.6.1,>=2023.1.0 in /usr/local/lib/python3.10/dist-packages (from fsspec[http]<=2024.6.1,>=2023.1.0->datasets) (2024.6.1)\n",
            "Requirement already satisfied: aiohttp in /usr/local/lib/python3.10/dist-packages (from datasets) (3.10.10)\n",
            "Requirement already satisfied: huggingface-hub>=0.22.0 in /usr/local/lib/python3.10/dist-packages (from datasets) (0.24.7)\n",
            "Requirement already satisfied: packaging in /usr/local/lib/python3.10/dist-packages (from datasets) (24.1)\n",
            "Requirement already satisfied: pyyaml>=5.1 in /usr/local/lib/python3.10/dist-packages (from datasets) (6.0.2)\n",
            "Requirement already satisfied: aiohappyeyeballs>=2.3.0 in /usr/local/lib/python3.10/dist-packages (from aiohttp->datasets) (2.4.3)\n",
            "Requirement already satisfied: aiosignal>=1.1.2 in /usr/local/lib/python3.10/dist-packages (from aiohttp->datasets) (1.3.1)\n",
            "Requirement already satisfied: attrs>=17.3.0 in /usr/local/lib/python3.10/dist-packages (from aiohttp->datasets) (24.2.0)\n",
            "Requirement already satisfied: frozenlist>=1.1.1 in /usr/local/lib/python3.10/dist-packages (from aiohttp->datasets) (1.4.1)\n",
            "Requirement already satisfied: multidict<7.0,>=4.5 in /usr/local/lib/python3.10/dist-packages (from aiohttp->datasets) (6.1.0)\n",
            "Requirement already satisfied: yarl<2.0,>=1.12.0 in /usr/local/lib/python3.10/dist-packages (from aiohttp->datasets) (1.14.0)\n",
            "Requirement already satisfied: async-timeout<5.0,>=4.0 in /usr/local/lib/python3.10/dist-packages (from aiohttp->datasets) (4.0.3)\n",
            "Requirement already satisfied: typing-extensions>=3.7.4.3 in /usr/local/lib/python3.10/dist-packages (from huggingface-hub>=0.22.0->datasets) (4.12.2)\n",
            "Requirement already satisfied: charset-normalizer<4,>=2 in /usr/local/lib/python3.10/dist-packages (from requests>=2.32.2->datasets) (3.4.0)\n",
            "Requirement already satisfied: idna<4,>=2.5 in /usr/local/lib/python3.10/dist-packages (from requests>=2.32.2->datasets) (3.10)\n",
            "Requirement already satisfied: urllib3<3,>=1.21.1 in /usr/local/lib/python3.10/dist-packages (from requests>=2.32.2->datasets) (2.2.3)\n",
            "Requirement already satisfied: certifi>=2017.4.17 in /usr/local/lib/python3.10/dist-packages (from requests>=2.32.2->datasets) (2024.8.30)\n",
            "Requirement already satisfied: python-dateutil>=2.8.2 in /usr/local/lib/python3.10/dist-packages (from pandas->datasets) (2.8.2)\n",
            "Requirement already satisfied: pytz>=2020.1 in /usr/local/lib/python3.10/dist-packages (from pandas->datasets) (2024.2)\n",
            "Requirement already satisfied: tzdata>=2022.7 in /usr/local/lib/python3.10/dist-packages (from pandas->datasets) (2024.2)\n",
            "Requirement already satisfied: six>=1.5 in /usr/local/lib/python3.10/dist-packages (from python-dateutil>=2.8.2->pandas->datasets) (1.16.0)\n",
            "Requirement already satisfied: propcache>=0.2.0 in /usr/local/lib/python3.10/dist-packages (from yarl<2.0,>=1.12.0->aiohttp->datasets) (0.2.0)\n",
            "Requirement already satisfied: python-Levenshtein in /usr/local/lib/python3.10/dist-packages (0.26.0)\n",
            "Requirement already satisfied: Levenshtein==0.26.0 in /usr/local/lib/python3.10/dist-packages (from python-Levenshtein) (0.26.0)\n",
            "Requirement already satisfied: rapidfuzz<4.0.0,>=3.9.0 in /usr/local/lib/python3.10/dist-packages (from Levenshtein==0.26.0->python-Levenshtein) (3.10.0)\n"
          ]
        }
      ],
      "source": [
        "# установить необходимые библиотеки\n",
        "!pip install fuzzywuzzy\n",
        "!pip install datasets\n",
        "!pip install python-Levenshtein"
      ]
    },
    {
      "cell_type": "code",
      "execution_count": 2,
      "metadata": {
        "id": "WopE6roEOakC"
      },
      "outputs": [],
      "source": [
        "from typing import Dict, Union, List\n",
        "from datasets import load_dataset\n",
        "from fuzzywuzzy import fuzz, process\n",
        "from sklearn.metrics import classification_report\n",
        "from tqdm.notebook import tqdm\n",
        "from transformers import pipeline"
      ]
    },
    {
      "cell_type": "code",
      "execution_count": 3,
      "metadata": {
        "id": "aRw4a3fwQUsk"
      },
      "outputs": [],
      "source": [
        "# функция для подбора промпта для llm\n",
        "def prepare_message_for_llm(text: Union[str, List[str]], categories: List[str]) -> Dict[str, Union[List[Dict[str, str]], List[List[Dict[str, str]]]]]:\n",
        "    if isinstance(text, str):\n",
        "        text = [text]\n",
        "\n",
        "    categories = ', '.join(categories)\n",
        "    messages = []\n",
        "\n",
        "    for msg in text:\n",
        "        messages.append([{\n",
        "            \"role\": \"user\",\n",
        "            \"content\": f\"Есть список категорий: {categories}. Нужно определить, \\\n",
        "            к какой категории относится следующий текст: {msg}. \\\n",
        "            Ответ напиши одним словом, только категория, как она указана в списке.\"\n",
        "\n",
        "        }])\n",
        "\n",
        "    return {'message_for_llm': messages}\n"
      ]
    },
    {
      "cell_type": "code",
      "execution_count": 4,
      "metadata": {
        "colab": {
          "base_uri": "https://localhost:8080/",
          "height": 191,
          "referenced_widgets": [
            "93c9e94078504ad6886d4580fd73fd2e",
            "1cf8163dfee14f309e28d20c808b8555",
            "1333557cb0cb4c2ba8e629bf029813b9",
            "599a8cd802f043daaf953787fe135d6c",
            "3a3d1be9eeaf4c31a3c1d90482eb0e77",
            "b5a7184c04bb42e985bc3a5ba9157c0f",
            "912ea7f4e1854051a2cf7a3a198c380e",
            "4672464d6f3245d8be2f814fbf561004",
            "c7d24f53c5ea42e38fb7300fc1e340a4",
            "5835f0497eb440f59fc5e09a6de02e2d",
            "bdff8569bba14300bb23af772a46f9d3"
          ]
        },
        "id": "Lahzgx7mJDXx",
        "outputId": "a2787733-02d8-4c5b-aa68-ee5972455d18"
      },
      "outputs": [
        {
          "output_type": "stream",
          "name": "stderr",
          "text": [
            "/usr/local/lib/python3.10/dist-packages/huggingface_hub/utils/_token.py:89: UserWarning: \n",
            "The secret `HF_TOKEN` does not exist in your Colab secrets.\n",
            "To authenticate with the Hugging Face Hub, create a token in your settings tab (https://huggingface.co/settings/tokens), set it as secret in your Google Colab and restart your session.\n",
            "You will be able to reuse this secret in all of your notebooks.\n",
            "Please note that authentication is recommended but still optional to access public models or datasets.\n",
            "  warnings.warn(\n"
          ]
        },
        {
          "output_type": "display_data",
          "data": {
            "text/plain": [
              "Loading checkpoint shards:   0%|          | 0/4 [00:00<?, ?it/s]"
            ],
            "application/vnd.jupyter.widget-view+json": {
              "version_major": 2,
              "version_minor": 0,
              "model_id": "93c9e94078504ad6886d4580fd73fd2e"
            }
          },
          "metadata": {}
        },
        {
          "output_type": "stream",
          "name": "stderr",
          "text": [
            "WARNING:accelerate.big_modeling:Some parameters are on the meta device because they were offloaded to the cpu.\n"
          ]
        }
      ],
      "source": [
        "# загрузка модели Qwen/Qwen2-7B-Instruct\n",
        "llm = pipeline(\"text-generation\", model=\"Qwen/Qwen2-7B-Instruct\", return_full_text=False,\n",
        "                max_new_tokens=512, device_map='auto', torch_dtype='auto')"
      ]
    },
    {
      "cell_type": "code",
      "execution_count": 5,
      "metadata": {
        "id": "7gfMjzLZPtuy"
      },
      "outputs": [],
      "source": [
        "# загрузка датасета по выборкам train, validation, test\n",
        "dataset = load_dataset(\"Davlan/sib200\", \"rus_Cyrl\")"
      ]
    },
    {
      "cell_type": "code",
      "source": [
        "dataset"
      ],
      "metadata": {
        "colab": {
          "base_uri": "https://localhost:8080/"
        },
        "id": "GOUmVldvG-ep",
        "outputId": "c24884ba-9507-4334-9800-ba34515e0c9e"
      },
      "execution_count": 6,
      "outputs": [
        {
          "output_type": "execute_result",
          "data": {
            "text/plain": [
              "DatasetDict({\n",
              "    train: Dataset({\n",
              "        features: ['index_id', 'category', 'text'],\n",
              "        num_rows: 701\n",
              "    })\n",
              "    validation: Dataset({\n",
              "        features: ['index_id', 'category', 'text'],\n",
              "        num_rows: 99\n",
              "    })\n",
              "    test: Dataset({\n",
              "        features: ['index_id', 'category', 'text'],\n",
              "        num_rows: 204\n",
              "    })\n",
              "})"
            ]
          },
          "metadata": {},
          "execution_count": 6
        }
      ]
    },
    {
      "cell_type": "code",
      "execution_count": 7,
      "metadata": {
        "id": "xDPzGngNVP4S"
      },
      "outputs": [],
      "source": [
        "dataset['train'] = dataset['train'].class_encode_column('category')\n",
        "dataset['validation'] = dataset['validation'].class_encode_column('category')\n",
        "dataset['test'] = dataset['test'].class_encode_column('category')"
      ]
    },
    {
      "cell_type": "code",
      "execution_count": 8,
      "metadata": {
        "colab": {
          "base_uri": "https://localhost:8080/"
        },
        "id": "L_PFouw2vuan",
        "outputId": "3fbf935d-7103-41bc-d1a5-3c25f5d3b1cb"
      },
      "outputs": [
        {
          "output_type": "execute_result",
          "data": {
            "text/plain": [
              "Dataset({\n",
              "    features: ['index_id', 'category', 'text'],\n",
              "    num_rows: 701\n",
              "})"
            ]
          },
          "metadata": {},
          "execution_count": 8
        }
      ],
      "source": [
        "dataset['train']"
      ]
    },
    {
      "cell_type": "code",
      "execution_count": 9,
      "metadata": {
        "colab": {
          "base_uri": "https://localhost:8080/"
        },
        "id": "3ju1cIIa8Yo5",
        "outputId": "233d76a2-1f0f-4338-c566-e9498affffc3"
      },
      "outputs": [
        {
          "output_type": "execute_result",
          "data": {
            "text/plain": [
              "{'index_id': 1441,\n",
              " 'category': 3,\n",
              " 'text': 'Британия заминировала международные воды, чтобы препятствовать судам входить в целые секторы океанов, подвергая опасности даже нейтральные суда.'}"
            ]
          },
          "metadata": {},
          "execution_count": 9
        }
      ],
      "source": [
        "dataset['train'][30]"
      ]
    },
    {
      "cell_type": "code",
      "source": [
        "categories = dataset['validation'].features['category'].names\n",
        "categories"
      ],
      "metadata": {
        "colab": {
          "base_uri": "https://localhost:8080/"
        },
        "id": "tY7dKeig9wg4",
        "outputId": "39374111-3d8c-4f42-bac1-5cdf2d8b86a2"
      },
      "execution_count": 10,
      "outputs": [
        {
          "output_type": "execute_result",
          "data": {
            "text/plain": [
              "['entertainment',\n",
              " 'geography',\n",
              " 'health',\n",
              " 'politics',\n",
              " 'science/technology',\n",
              " 'sports',\n",
              " 'travel']"
            ]
          },
          "metadata": {},
          "execution_count": 10
        }
      ]
    },
    {
      "cell_type": "code",
      "execution_count": 11,
      "metadata": {
        "id": "Rb7tbT350AYq"
      },
      "outputs": [],
      "source": [
        "# добавить в список фичей колонку 'message_for_llm', которая получится в результате применения функции prepare_message_for_llm к текстам\n",
        "train_messages = prepare_message_for_llm(dataset['train']['text'], categories)['message_for_llm']\n",
        "validation_messages = prepare_message_for_llm(dataset['validation']['text'], categories)['message_for_llm']\n",
        "test_messages = prepare_message_for_llm(dataset['test']['text'], categories)['message_for_llm']\n",
        "\n",
        "dataset['train'] = dataset['train'].add_column(name=\"message_for_llm\", \\\n",
        "                                               column=train_messages)\n",
        "dataset['validation'] = dataset['validation'].add_column(name=\"message_for_llm\", \\\n",
        "                                              column=validation_messages)\n",
        "dataset['test'] = dataset['test'].add_column(name=\"message_for_llm\", \\\n",
        "                                             column=test_messages)\n"
      ]
    },
    {
      "cell_type": "code",
      "execution_count": 12,
      "metadata": {
        "colab": {
          "base_uri": "https://localhost:8080/"
        },
        "id": "o97XDES8RM6P",
        "outputId": "31295be5-b9a1-4dfa-ef72-27f4edd2088e"
      },
      "outputs": [
        {
          "output_type": "execute_result",
          "data": {
            "text/plain": [
              "DatasetDict({\n",
              "    train: Dataset({\n",
              "        features: ['index_id', 'category', 'text', 'message_for_llm'],\n",
              "        num_rows: 701\n",
              "    })\n",
              "    validation: Dataset({\n",
              "        features: ['index_id', 'category', 'text', 'message_for_llm'],\n",
              "        num_rows: 99\n",
              "    })\n",
              "    test: Dataset({\n",
              "        features: ['index_id', 'category', 'text', 'message_for_llm'],\n",
              "        num_rows: 204\n",
              "    })\n",
              "})"
            ]
          },
          "metadata": {},
          "execution_count": 12
        }
      ],
      "source": [
        "dataset"
      ]
    },
    {
      "cell_type": "code",
      "execution_count": 13,
      "metadata": {
        "colab": {
          "base_uri": "https://localhost:8080/"
        },
        "id": "yPJnZdaJ0VWi",
        "outputId": "9223068f-7e75-4d74-e0e2-c44b9a6a4100"
      },
      "outputs": [
        {
          "output_type": "stream",
          "name": "stdout",
          "text": [
            "{'index_id': 1941, 'category': 6, 'text': 'Широкие бульвары, здания со стеклянными фасадами современные торговые центры перемежаются местами  с традиционными крышами с красной черепицей, рынком XVIII века, старыми мечетями и церквями, хотя город и имеет больше атмосферу средиземноморской Европы, чем традиционной Турции.', 'message_for_llm': [{'content': 'Есть список категорий: entertainment, geography, health, politics, science/technology, sports, travel. Нужно определить,             к какой категории относится следующий текст: Широкие бульвары, здания со стеклянными фасадами современные торговые центры перемежаются местами  с традиционными крышами с красной черепицей, рынком XVIII века, старыми мечетями и церквями, хотя город и имеет больше атмосферу средиземноморской Европы, чем традиционной Турции..             Ответ напиши одним словом, только категория, как она указана в списке.', 'role': 'user'}]}\n"
          ]
        }
      ],
      "source": [
        "print(dataset['train'][40])"
      ]
    },
    {
      "cell_type": "code",
      "execution_count": 14,
      "metadata": {
        "id": "0-Wu3AGV0mCI"
      },
      "outputs": [],
      "source": [
        "def predicted(name_dataset):\n",
        "    pred = []\n",
        "\n",
        "    for message in dataset[name_dataset]['message_for_llm']:\n",
        "        generated_text = llm(message)[0]['generated_text']\n",
        "        pred.append(generated_text)\n",
        "\n",
        "    return pred"
      ]
    },
    {
      "cell_type": "code",
      "execution_count": 15,
      "metadata": {
        "id": "y5Q5WgUy1u_G"
      },
      "outputs": [],
      "source": [
        "# получить предсказания для валидационной выборки и сформировать classification_report\n",
        "def report(name_dataset, predicts):\n",
        "    final_pred = []\n",
        "    for predict in predicts:\n",
        "        best_category = process.extractOne(predict, categories)[0]\n",
        "        final_pred.append(categories.index(best_category))\n",
        "\n",
        "    print(f'Classification_report для {name_dataset}')\n",
        "    print(classification_report(dataset[name_dataset]['category'], final_pred))\n"
      ]
    },
    {
      "cell_type": "code",
      "execution_count": null,
      "metadata": {
        "id": "oy1qqdWp1PKB"
      },
      "outputs": [],
      "source": [
        "pred_val = predicted('validation')"
      ]
    },
    {
      "cell_type": "code",
      "execution_count": 17,
      "metadata": {
        "colab": {
          "base_uri": "https://localhost:8080/"
        },
        "id": "GRlkMrUu36x6",
        "outputId": "aa939550-7986-4a73-8152-17a0b3e0c8bb"
      },
      "outputs": [
        {
          "output_type": "stream",
          "name": "stdout",
          "text": [
            "Classification_report для validation\n",
            "              precision    recall  f1-score   support\n",
            "\n",
            "           0       0.57      0.44      0.50         9\n",
            "           1       0.71      0.62      0.67         8\n",
            "           2       0.88      0.64      0.74        11\n",
            "           3       0.79      0.79      0.79        14\n",
            "           4       0.81      0.88      0.85        25\n",
            "           5       0.73      0.92      0.81        12\n",
            "           6       0.71      0.75      0.73        20\n",
            "\n",
            "    accuracy                           0.76        99\n",
            "   macro avg       0.74      0.72      0.73        99\n",
            "weighted avg       0.76      0.76      0.75        99\n",
            "\n"
          ]
        }
      ],
      "source": [
        "report('validation', pred_val)"
      ]
    },
    {
      "cell_type": "code",
      "execution_count": null,
      "metadata": {
        "id": "SRKeph3O2l-_"
      },
      "outputs": [],
      "source": [
        "# сделать то же самое для тестовой выборки\n",
        "pred_test = predicted('test')"
      ]
    },
    {
      "cell_type": "code",
      "execution_count": null,
      "metadata": {
        "id": "EBlVbPI04Due"
      },
      "outputs": [],
      "source": [
        "report('test', pred_test)"
      ]
    },
    {
      "cell_type": "code",
      "execution_count": null,
      "metadata": {
        "id": "MXRPe4tuWCOA"
      },
      "outputs": [],
      "source": [
        "# сделать вывод о полученных результатах\n",
        "'''\n",
        "Результаты модели выше, чем у регрессии. Модель более устойчива\n",
        "к дисбалансу. Нужно учитывать, что важен сам запрос, так как неверно сформулированный промт\n",
        "может привести к печальным результатам, и это будет вина не модели :)\n",
        "'''"
      ]
    }
  ],
  "metadata": {
    "accelerator": "GPU",
    "colab": {
      "gpuType": "T4",
      "provenance": []
    },
    "kernelspec": {
      "display_name": "Python 3",
      "name": "python3"
    },
    "language_info": {
      "codemirror_mode": {
        "name": "ipython",
        "version": 3
      },
      "file_extension": ".py",
      "mimetype": "text/x-python",
      "name": "python",
      "nbconvert_exporter": "python",
      "pygments_lexer": "ipython3",
      "version": "3.11.9"
    },
    "widgets": {
      "application/vnd.jupyter.widget-state+json": {
        "93c9e94078504ad6886d4580fd73fd2e": {
          "model_module": "@jupyter-widgets/controls",
          "model_name": "HBoxModel",
          "model_module_version": "1.5.0",
          "state": {
            "_dom_classes": [],
            "_model_module": "@jupyter-widgets/controls",
            "_model_module_version": "1.5.0",
            "_model_name": "HBoxModel",
            "_view_count": null,
            "_view_module": "@jupyter-widgets/controls",
            "_view_module_version": "1.5.0",
            "_view_name": "HBoxView",
            "box_style": "",
            "children": [
              "IPY_MODEL_1cf8163dfee14f309e28d20c808b8555",
              "IPY_MODEL_1333557cb0cb4c2ba8e629bf029813b9",
              "IPY_MODEL_599a8cd802f043daaf953787fe135d6c"
            ],
            "layout": "IPY_MODEL_3a3d1be9eeaf4c31a3c1d90482eb0e77"
          }
        },
        "1cf8163dfee14f309e28d20c808b8555": {
          "model_module": "@jupyter-widgets/controls",
          "model_name": "HTMLModel",
          "model_module_version": "1.5.0",
          "state": {
            "_dom_classes": [],
            "_model_module": "@jupyter-widgets/controls",
            "_model_module_version": "1.5.0",
            "_model_name": "HTMLModel",
            "_view_count": null,
            "_view_module": "@jupyter-widgets/controls",
            "_view_module_version": "1.5.0",
            "_view_name": "HTMLView",
            "description": "",
            "description_tooltip": null,
            "layout": "IPY_MODEL_b5a7184c04bb42e985bc3a5ba9157c0f",
            "placeholder": "​",
            "style": "IPY_MODEL_912ea7f4e1854051a2cf7a3a198c380e",
            "value": "Loading checkpoint shards: 100%"
          }
        },
        "1333557cb0cb4c2ba8e629bf029813b9": {
          "model_module": "@jupyter-widgets/controls",
          "model_name": "FloatProgressModel",
          "model_module_version": "1.5.0",
          "state": {
            "_dom_classes": [],
            "_model_module": "@jupyter-widgets/controls",
            "_model_module_version": "1.5.0",
            "_model_name": "FloatProgressModel",
            "_view_count": null,
            "_view_module": "@jupyter-widgets/controls",
            "_view_module_version": "1.5.0",
            "_view_name": "ProgressView",
            "bar_style": "success",
            "description": "",
            "description_tooltip": null,
            "layout": "IPY_MODEL_4672464d6f3245d8be2f814fbf561004",
            "max": 4,
            "min": 0,
            "orientation": "horizontal",
            "style": "IPY_MODEL_c7d24f53c5ea42e38fb7300fc1e340a4",
            "value": 4
          }
        },
        "599a8cd802f043daaf953787fe135d6c": {
          "model_module": "@jupyter-widgets/controls",
          "model_name": "HTMLModel",
          "model_module_version": "1.5.0",
          "state": {
            "_dom_classes": [],
            "_model_module": "@jupyter-widgets/controls",
            "_model_module_version": "1.5.0",
            "_model_name": "HTMLModel",
            "_view_count": null,
            "_view_module": "@jupyter-widgets/controls",
            "_view_module_version": "1.5.0",
            "_view_name": "HTMLView",
            "description": "",
            "description_tooltip": null,
            "layout": "IPY_MODEL_5835f0497eb440f59fc5e09a6de02e2d",
            "placeholder": "​",
            "style": "IPY_MODEL_bdff8569bba14300bb23af772a46f9d3",
            "value": " 4/4 [01:12&lt;00:00, 15.78s/it]"
          }
        },
        "3a3d1be9eeaf4c31a3c1d90482eb0e77": {
          "model_module": "@jupyter-widgets/base",
          "model_name": "LayoutModel",
          "model_module_version": "1.2.0",
          "state": {
            "_model_module": "@jupyter-widgets/base",
            "_model_module_version": "1.2.0",
            "_model_name": "LayoutModel",
            "_view_count": null,
            "_view_module": "@jupyter-widgets/base",
            "_view_module_version": "1.2.0",
            "_view_name": "LayoutView",
            "align_content": null,
            "align_items": null,
            "align_self": null,
            "border": null,
            "bottom": null,
            "display": null,
            "flex": null,
            "flex_flow": null,
            "grid_area": null,
            "grid_auto_columns": null,
            "grid_auto_flow": null,
            "grid_auto_rows": null,
            "grid_column": null,
            "grid_gap": null,
            "grid_row": null,
            "grid_template_areas": null,
            "grid_template_columns": null,
            "grid_template_rows": null,
            "height": null,
            "justify_content": null,
            "justify_items": null,
            "left": null,
            "margin": null,
            "max_height": null,
            "max_width": null,
            "min_height": null,
            "min_width": null,
            "object_fit": null,
            "object_position": null,
            "order": null,
            "overflow": null,
            "overflow_x": null,
            "overflow_y": null,
            "padding": null,
            "right": null,
            "top": null,
            "visibility": null,
            "width": null
          }
        },
        "b5a7184c04bb42e985bc3a5ba9157c0f": {
          "model_module": "@jupyter-widgets/base",
          "model_name": "LayoutModel",
          "model_module_version": "1.2.0",
          "state": {
            "_model_module": "@jupyter-widgets/base",
            "_model_module_version": "1.2.0",
            "_model_name": "LayoutModel",
            "_view_count": null,
            "_view_module": "@jupyter-widgets/base",
            "_view_module_version": "1.2.0",
            "_view_name": "LayoutView",
            "align_content": null,
            "align_items": null,
            "align_self": null,
            "border": null,
            "bottom": null,
            "display": null,
            "flex": null,
            "flex_flow": null,
            "grid_area": null,
            "grid_auto_columns": null,
            "grid_auto_flow": null,
            "grid_auto_rows": null,
            "grid_column": null,
            "grid_gap": null,
            "grid_row": null,
            "grid_template_areas": null,
            "grid_template_columns": null,
            "grid_template_rows": null,
            "height": null,
            "justify_content": null,
            "justify_items": null,
            "left": null,
            "margin": null,
            "max_height": null,
            "max_width": null,
            "min_height": null,
            "min_width": null,
            "object_fit": null,
            "object_position": null,
            "order": null,
            "overflow": null,
            "overflow_x": null,
            "overflow_y": null,
            "padding": null,
            "right": null,
            "top": null,
            "visibility": null,
            "width": null
          }
        },
        "912ea7f4e1854051a2cf7a3a198c380e": {
          "model_module": "@jupyter-widgets/controls",
          "model_name": "DescriptionStyleModel",
          "model_module_version": "1.5.0",
          "state": {
            "_model_module": "@jupyter-widgets/controls",
            "_model_module_version": "1.5.0",
            "_model_name": "DescriptionStyleModel",
            "_view_count": null,
            "_view_module": "@jupyter-widgets/base",
            "_view_module_version": "1.2.0",
            "_view_name": "StyleView",
            "description_width": ""
          }
        },
        "4672464d6f3245d8be2f814fbf561004": {
          "model_module": "@jupyter-widgets/base",
          "model_name": "LayoutModel",
          "model_module_version": "1.2.0",
          "state": {
            "_model_module": "@jupyter-widgets/base",
            "_model_module_version": "1.2.0",
            "_model_name": "LayoutModel",
            "_view_count": null,
            "_view_module": "@jupyter-widgets/base",
            "_view_module_version": "1.2.0",
            "_view_name": "LayoutView",
            "align_content": null,
            "align_items": null,
            "align_self": null,
            "border": null,
            "bottom": null,
            "display": null,
            "flex": null,
            "flex_flow": null,
            "grid_area": null,
            "grid_auto_columns": null,
            "grid_auto_flow": null,
            "grid_auto_rows": null,
            "grid_column": null,
            "grid_gap": null,
            "grid_row": null,
            "grid_template_areas": null,
            "grid_template_columns": null,
            "grid_template_rows": null,
            "height": null,
            "justify_content": null,
            "justify_items": null,
            "left": null,
            "margin": null,
            "max_height": null,
            "max_width": null,
            "min_height": null,
            "min_width": null,
            "object_fit": null,
            "object_position": null,
            "order": null,
            "overflow": null,
            "overflow_x": null,
            "overflow_y": null,
            "padding": null,
            "right": null,
            "top": null,
            "visibility": null,
            "width": null
          }
        },
        "c7d24f53c5ea42e38fb7300fc1e340a4": {
          "model_module": "@jupyter-widgets/controls",
          "model_name": "ProgressStyleModel",
          "model_module_version": "1.5.0",
          "state": {
            "_model_module": "@jupyter-widgets/controls",
            "_model_module_version": "1.5.0",
            "_model_name": "ProgressStyleModel",
            "_view_count": null,
            "_view_module": "@jupyter-widgets/base",
            "_view_module_version": "1.2.0",
            "_view_name": "StyleView",
            "bar_color": null,
            "description_width": ""
          }
        },
        "5835f0497eb440f59fc5e09a6de02e2d": {
          "model_module": "@jupyter-widgets/base",
          "model_name": "LayoutModel",
          "model_module_version": "1.2.0",
          "state": {
            "_model_module": "@jupyter-widgets/base",
            "_model_module_version": "1.2.0",
            "_model_name": "LayoutModel",
            "_view_count": null,
            "_view_module": "@jupyter-widgets/base",
            "_view_module_version": "1.2.0",
            "_view_name": "LayoutView",
            "align_content": null,
            "align_items": null,
            "align_self": null,
            "border": null,
            "bottom": null,
            "display": null,
            "flex": null,
            "flex_flow": null,
            "grid_area": null,
            "grid_auto_columns": null,
            "grid_auto_flow": null,
            "grid_auto_rows": null,
            "grid_column": null,
            "grid_gap": null,
            "grid_row": null,
            "grid_template_areas": null,
            "grid_template_columns": null,
            "grid_template_rows": null,
            "height": null,
            "justify_content": null,
            "justify_items": null,
            "left": null,
            "margin": null,
            "max_height": null,
            "max_width": null,
            "min_height": null,
            "min_width": null,
            "object_fit": null,
            "object_position": null,
            "order": null,
            "overflow": null,
            "overflow_x": null,
            "overflow_y": null,
            "padding": null,
            "right": null,
            "top": null,
            "visibility": null,
            "width": null
          }
        },
        "bdff8569bba14300bb23af772a46f9d3": {
          "model_module": "@jupyter-widgets/controls",
          "model_name": "DescriptionStyleModel",
          "model_module_version": "1.5.0",
          "state": {
            "_model_module": "@jupyter-widgets/controls",
            "_model_module_version": "1.5.0",
            "_model_name": "DescriptionStyleModel",
            "_view_count": null,
            "_view_module": "@jupyter-widgets/base",
            "_view_module_version": "1.2.0",
            "_view_name": "StyleView",
            "description_width": ""
          }
        }
      }
    }
  },
  "nbformat": 4,
  "nbformat_minor": 0
}